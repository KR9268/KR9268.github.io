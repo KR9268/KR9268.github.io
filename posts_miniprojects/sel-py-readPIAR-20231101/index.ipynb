{
  "cells": [
    {
      "cell_type": "raw",
      "id": "de6ec63f",
      "metadata": {
        "vscode": {
          "languageId": "raw"
        }
      },
      "source": [
        "---\n",
        "title: '[Python] 아웃룩 메일열람 & pdf regex리딩 & 시스템 자동등록'\n",
        "author: 'Kibok Park'\n",
        "date: '2023-12-15'\n",
        "categories: [Python, re, xlwings, pandas, pdfminer]\n",
        "toc: true\n",
        "draft: false\n",
        "format:\n",
        "  html:\n",
        "    code-fold: false\n",
        "comments:\n",
        "  giscus:\n",
        "    repo: kr9268/giscus_for_blog\n",
        "abstract: > \n",
        "  [Python] re(regex), xlwings(암호화 Excel리딩), pdfminer(pdf리딩), pywin32(outlook)\n",
        "---"
      ]
    },
    {
      "cell_type": "markdown",
      "id": "225d807a",
      "metadata": {},
      "source": [
        "## 추진배경\n",
        "\n",
        "* 제공받는 PI서류에, 시스템 등록에 필요한 일부가 늘 빠져있으며 별도 테이블을 참고하여 대응중\n",
        "* 기계가 인식할 수 있는 pdf로 제공되고 있으나, 마우스로 드래그하여 복사/붙여넣기를 반복\n",
        "* 제공하는 담당자의 내부규정때문에, 1메일:1파일로 나누어 여러 건을 별도메일로 제공중\n",
        "* 향후 분쟁대비, 또는 법적인 사유로 pdf의 이름을 변경하여 별도로 저장하는 작업중\n",
        "* 납품(수출)시 사용될 중요한 정보로 사용되며, 오류발생시 다른 국가로의 오배송, 수입절차 문제 등 발생\n",
        "* **각 포인트에 대응할 수 있도록 아래의 형태로 개발 추진**\n",
        "  * 아웃룩으로 수신된 메일의 첨부를 열어 필요한 각 항목을 regex로 리딩\n",
        "  * 리딩된 정보 중 최소 확인사항을 코드가 검증\n",
        "    ex) 한국 수출인데 홍콩물품에 대해 보험을 드는 등 논리오류 검증\n",
        "  * 시스템 등록 후 파일명 변경 및 아카이브에 자동 저장\n",
        "  * 백그라운드에서 실행되며, 작업이 완료되면 윈도우 toast메시지로 알림\n",
        "\n",
        ">\n",
        "**[용어설명]**<br>\n",
        "**PI** : 수출납품계약서로 발주자의 양식 등을 사용함, Proforma Invoice<br>\n",
        "**regex** : 정규표현식, 특정한 규칙을 통해 문자를 검색/편집하는데 사용\n",
        "\n",
        "## 효과\n",
        "* `건별 메일열람 - 논리오류 검증 - 시스템 등록(복사/붙여넣기, 별도테이블 참고) - 파일명 변경 및 저장` 등 프로세스 제거\n",
        "* Human error 제거로 인한 다른 국가로의 오배송(재운송에 필요한 각종 비용), 수입절차(법적이슈) 등 문제예방\n",
        "\n",
        "## github repository\n",
        "[관련 github레포](https://github.com/KR9268/-P-AutoPIforL001)\n",
        "\n",
        "## [세부내용] 구현내용 & 사용한 언어/패키지 등\n",
        "(1) `pywin32`로 아웃룩을 제어하여 조건에 맞는 pdf첨부 열람 등 진행<br>\n",
        "    * `selenium`은 chrome버전변경 등 영향이 커서 구현했다가 미사용\n",
        "(2) `xlwings`로 Excel로 저장해둔 별도 참고용 테이블을 열람\n",
        "    * DRM암호화와 관계없이 파일을 읽을 수 있기 때문에 `xlwings`를 채택\n",
        "(3) `re`로 pdf의 문자열을 검색하여 필요한 내용을 저장\n",
        "(4) `NERP_PI_LC`(주요 ERP관련 기능에 대해 제작한 파이썬 패키지)으로 시스템 등록 등을 진행\n",
        "(5) `win11toast`로 모든 작업이 완료되면 알림\n",
        "(6) [삭제기능] `selenium`으로 PI제공자에게 자동회신도 했었으나, chrome업데이트 등 안정성 문제로 제외\n",
        "    * 아웃룩 등 smtp발송은 내부규정상 막혀있어 사용하지 않음"
      ]
    }
  ],
  "metadata": {
    "kernelspec": {
      "display_name": "Python 3 (ipykernel)",
      "language": "python",
      "name": "python3"
    },
    "language_info": {
      "codemirror_mode": {
        "name": "ipython",
        "version": 3
      },
      "file_extension": ".py",
      "mimetype": "text/x-python",
      "name": "python",
      "nbconvert_exporter": "python",
      "pygments_lexer": "ipython3",
      "version": "3.11.4"
    }
  },
  "nbformat": 4,
  "nbformat_minor": 5
}
