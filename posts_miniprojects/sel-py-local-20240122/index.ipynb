{
  "cells": [
    {
      "cell_type": "raw",
      "id": "de6ec63f",
      "metadata": {
        "vscode": {
          "languageId": "raw"
        }
      },
      "source": [
        "---\n",
        "title: '[Python] LocalL/C 관리용 Tool'\n",
        "author: 'Kibok Park'\n",
        "date: '2024-01-22'\n",
        "categories: [Python, SAP Scripting, Streamlit, sqlite3, BeautifulSoup]\n",
        "toc: true\n",
        "draft: false\n",
        "format:\n",
        "  html:\n",
        "    code-fold: false\n",
        "comments:\n",
        "  giscus:\n",
        "    repo: kr9268/giscus_for_blog\n",
        "abstract: > \n",
        "  Python, Streamlit을 활용한 업무자동화\n",
        "---"
      ]
    },
    {
      "cell_type": "markdown",
      "id": "225d807a",
      "metadata": {},
      "source": [
        "## 개요 \n",
        "(1) 정보가 파편화되어있어 하나의 Tool로써 확인하고 관리하기 위해서 Streamlit 기반으로 만듦\n",
        "* 정보 저장 및 조회\n",
        "  * 내부정보는 ERP에서 가져와서 db에 적재(SAP Scripting, win32com 사용)\n",
        "  * 외부정보는 xml을 읽어서 Tag로 필요한 정보를 찾아 db에 적재(Beautifulsoup 사용)\n",
        "    (외부정보라고는 하나, ERP에 저장되어있는 xml을 불러들여서 사용함)\n",
        "  * 데이터 저장 및 최초 쿼리는 SQL문으로 가져오나, join등 필요한 사후처리는 pandas를 활용\n",
        "\n",
        "(2) ERP에 직접 입력하는 등의 수작업을 자동으로 수행\n",
        "* 자동화 기능\n",
        "  * ERP 수주내역 등록(고정정보는 Master화, 변동정보는 Streamlit 텍스트박스 활용)\n",
        "  * 준수사항(법령 등)의 자동체크\n",
        "    * 특정 날짜 내에 완료해야한다던가, 일치해야하는 내용 등을 자동으로 검수\n",
        "    * Streamlit의 table내 체크박스표기(True,False)를 활용하여 이상여부를 직관적으로 확인 가능\n",
        "    * 사용자가 어떤 행동을 해야하는지 참고사항란을 통해 지시(연장요청, 수령증발행요청 등)\n",
        "  * 보유내역 및 관리대상(작업이 완료되지 않은 건)의 Filter 기능 제공(드롭박스로 선택)\n",
        "  * ERP의 ID, PW를 입력해두어 작업 자동화 수행\n",
        "    * 개인PC에서만 사용하는 Tool이며, 표기는 ***과 같이 암호화 표기되어 관리\n",
        "\n",
        "(3) 설계시 고려사항, 특이사항, 참고사항\n",
        "* 추가/삭제/변경 등 변동될 수 있는 정보는 Hardcoding이 아닌 db형태로 저장\n",
        "  * 오류 등 상황에 대비하여 실행시 기존 db를 복사해두는 로직 구현해두었으나, 자주 실행시 과생성되어 향후 수정 예정\n",
        "* ERP관련 기능은 SAP메뉴(T-code)기준으로 함수화하여 관리\n",
        "* 정보조회 관련 기능은 기능별 dataframe 생성/변환하는 방향으로 함수화하여 관리\n",
        "* ERP제어(SAP Scripting) 주요기능을 구현한 'NERP_PI_LC'는 자체제작한 것으로 정리하여 업로드 예정(pip 미등록)\n",
        "* 수익자기준 주요 EDI코드 : 내국신용장(LOCADV), 물품수령증(LOCRCT)\n",
        "  * BeautifulSoup를 위해 정리해둔 딕셔너리(locrct_id, locadv_id)는 표준규격일 것으로 예상하여 재사용가능할 것으로 예상\n",
        "\n",
        "(4) Local L/C에 대한 세부정보 참고가능한 사이트\n",
        "\n",
        "[KTNET - 이용안내 - 상세업무절차](https://ulocallc.utradehub.or.kr/LocalCredit/index.jsp?sso=ok)"
      ]
    },
    {
      "cell_type": "markdown",
      "id": "c065a1f2",
      "metadata": {},
      "source": [
        "## github repository\n",
        "[관련 github레포](https://github.com/KR9268/LocalLC_GUI)"
      ]
    }
  ],
  "metadata": {
    "kernelspec": {
      "display_name": "Python 3 (ipykernel)",
      "language": "python",
      "name": "python3"
    },
    "language_info": {
      "codemirror_mode": {
        "name": "ipython",
        "version": 3
      },
      "file_extension": ".py",
      "mimetype": "text/x-python",
      "name": "python",
      "nbconvert_exporter": "python",
      "pygments_lexer": "ipython3",
      "version": "3.11.4"
    }
  },
  "nbformat": 4,
  "nbformat_minor": 5
}
