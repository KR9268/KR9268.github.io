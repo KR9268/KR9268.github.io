{
  "cells": [
    {
      "cell_type": "raw",
      "id": "de6ec63f",
      "metadata": {
        "vscode": {
          "languageId": "raw"
        }
      },
      "source": [
        "---\n",
        "title: '[Python] LocalL/C 관리용 Tool'\n",
        "author: 'Kibok Park'\n",
        "date: '2024-01-22'\n",
        "categories: [Python, SAP Scripting, Streamlit, sqlite3, BeautifulSoup]\n",
        "execute:\n",
        "  freeze: auto\n",
        "toc: true\n",
        "draft: false\n",
        "format:\n",
        "  html:\n",
        "    code-fold: false\n",
        "comments:\n",
        "  giscus:\n",
        "    repo: kr9268/giscus_for_blog\n",
        "abstract: > \n",
        "  Python, Streamlit을 활용한 업무자동화\n",
        "---"
      ]
    },
    {
      "cell_type": "markdown",
      "id": "225d807a",
      "metadata": {},
      "source": [
        "## 추진배경\n",
        "\n",
        "* Local L/C 업무에 대해 아래의 문제점을 인식함\n",
        "  * 정보와 기능이 각기 다른 ERP메뉴에 산재되어 **비효율/불편함** 발생\n",
        "    * 주요기능 : L/C수신, L/C등록, 세금계산서 조회, 물품수령증 조회, 은행 네고(제출)\n",
        "  * 전자화된 정보임에도 각 서류간에 동일한 항목이 일치되게 기입되어있는지 **눈으로 확인중**\n",
        "    * 예를 들어, 4개의 서류에 24자리의 세금계산서번호가 모두 똑같게 들어있는지 확인 필요\n",
        "    * 이러한 공통정보 중 하나라도 틀리면 **물품의 대금의 전부를 지급받지 못하므로 중요함**\n",
        "  * 각 서류와 행위에 대한 **법 조항이 있어 준수해야하나, 모두 인지하고있기 어려움**\n",
        "    * 예를 들어, A서류가 발행되면 몇일 이내에 B서류를 제출해야 함\n",
        "* 문제점을 해결하기 위해 아래의 방안을 도출함\n",
        "  * DB활용\n",
        "    * 각 항목을 테이블로 Primary, 공통키를 지정하여 하나의 DB로 통합\n",
        "    * DB의 날짜조건과 서류존재여부를 활용해 준수사항에 대해 유저에게 지시\n",
        "    * DB의 정보를 대조하여 유저에게 결과를 공유\n",
        "    * 대시보드용으로 많이 사용하는 streamlit으로 UI제공\n",
        "  * 업무자동화\n",
        "    * DB내용을 기반으로 유저가 직접하던 등록이나 은행제출 자동화기능 수행\n",
        "\n",
        ">\n",
        "**[용어설명]**<br>\n",
        "**L/C** : **물품주문서**이자 **대금청구시 사용될 은행계좌**와 비슷한 역할<br>\n",
        "      (Letter of Credit, 신용장)<br>\n",
        "**물품수령증** : 고객이 물건을 정상수령하였다는 서류, 대금청구에 사용할 수 있다<br>\n",
        "**은행네고** : 정상수령했다는 서류 등을 제출하여, 은행에 준비되어있는 물품대금을 받을 수 있다\n",
        "\n",
        "## 효과\n",
        "* DB화 및 정보대조를 통한 Human error제거 및 물품대금 전부에 대한 정상 입수\n",
        "* 법적 준수사항에 대한 미준수로 인한 여러 Risk제거\n",
        "* 유저가 기능별 메뉴를 이동할 필요없이 하나의 통합UI에서 업무를 해결\n",
        "  * 편의기능 추가 : 조치대상 내역을 클립보드로 일괄복사해주는 기능 등\n",
        "\n",
        "## github repository\n",
        "[관련 github레포](https://github.com/KR9268/LocalLC_GUI)\n",
        "\n",
        "## [세부내용] 구현내용 & 사용한 언어/패키지 등\n",
        "\n",
        "(1) 정보가 파편화되어있어 하나의 Tool로써 확인하고 관리하기 위해서 `Streamlit` 기반으로 만듦\n",
        "* 정보 저장 및 조회\n",
        "  * 내부정보는 ERP에서 가져와서 db에 적재(SAP Scripting활용을 위한 `win32com` 사용)\n",
        "  * 외부정보는 xml을 읽어서 Tag로 필요한 정보를 찾아 db에 적재(`Beautifulsoup`, `sqlite3` 사용)\n",
        "    (외부정보라고는 하나, ERP에 저장되어있는 xml을 불러들여서 사용함)\n",
        "  * 데이터 저장 및 최초 쿼리는 SQL문으로 가져오나, join등 필요한 사후처리는 `pandas`를 활용\n",
        "\n",
        "(2) ERP에 직접 입력하는 등의 수작업을 자동으로 수행\n",
        "* 자동화 기능\n",
        "  * ERP 수주내역 등록(고정정보는 Master화, 변동정보는 Streamlit 텍스트박스 활용)\n",
        "  * 준수사항(법령 등)의 자동체크\n",
        "    * 특정 날짜 내에 완료해야한다던가, 일치해야하는 내용 등을 자동으로 검수\n",
        "    * Streamlit의 table내 체크박스표기(True,False)를 활용하여 이상여부를 직관적으로 확인 가능\n",
        "    * 사용자가 어떤 행동을 해야하는지 참고사항란을 통해 지시(연장요청, 수령증발행요청 등)\n",
        "  * 보유내역 및 관리대상(작업이 완료되지 않은 건)의 Filter 기능 제공(드롭박스로 선택)\n",
        "  * ERP의 ID, PW를 입력해두어 작업 자동화 수행\n",
        "    * 개인PC에서만 사용하는 Tool이며, 표기는 ***과 같이 암호화 표기되어 관리\n",
        "\n",
        "(3) 설계시 고려사항, 특이사항, 참고사항\n",
        "* 추가/삭제/변경 등 변동될 수 있는 정보는 Hardcoding이 아닌 db형태로 저장\n",
        "  * 오류 등 상황에 대비하여 실행시 기존 db를 복사해두는 로직 구현해두었으나, 자주 실행시 과생성되어 향후 수정 예정\n",
        "* ERP관련 기능은 SAP메뉴(T-code)기준으로 함수화하여 관리\n",
        "* 정보조회 관련 기능은 기능별 dataframe 생성/변환하는 방향으로 함수화하여 관리\n",
        "* ERP제어(SAP Scripting) **주요기능을 구현한 'NERP_PI_LC'는 자체제작한 것**으로 정리하여 업로드 예정**(pip 미등록)**\n",
        "* 수익자기준 주요 EDI코드(참고용 기록) : 내국신용장(LOCADV), 물품수령증(LOCRCT)\n",
        "  * BeautifulSoup를 위해 정리해둔 딕셔너리(locrct_id, locadv_id)는 표준규격일 것으로 예상하여 재사용가능할 것으로 예상\n",
        "\n",
        "(4) Local L/C에 대한 세부정보 참고가능한 사이트\n",
        "\n",
        "[KTNET - 이용안내 - 상세업무절차](https://ulocallc.utradehub.or.kr/LocalCredit/index.jsp?sso=ok)\n"
      ]
    }
  ],
  "metadata": {
    "kernelspec": {
      "display_name": "Python 3 (ipykernel)",
      "language": "python",
      "name": "python3"
    },
    "language_info": {
      "codemirror_mode": {
        "name": "ipython",
        "version": 3
      },
      "file_extension": ".py",
      "mimetype": "text/x-python",
      "name": "python",
      "nbconvert_exporter": "python",
      "pygments_lexer": "ipython3",
      "version": "3.11.4"
    }
  },
  "nbformat": 4,
  "nbformat_minor": 5
}
