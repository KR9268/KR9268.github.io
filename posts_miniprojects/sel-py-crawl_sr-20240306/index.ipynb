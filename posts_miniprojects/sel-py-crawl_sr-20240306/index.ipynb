{
  "cells": [
    {
      "cell_type": "raw",
      "id": "de6ec63f",
      "metadata": {
        "vscode": {
          "languageId": "raw"
        }
      },
      "source": [
        "---\n",
        "title: '[Python] ERP(SAP) 특정 메뉴의 주요정보 크롤링 & 정리 Tool'\n",
        "author: 'Kibok Park'\n",
        "date: '2024-03-06'\n",
        "categories: [Python, SAP Scripting]\n",
        "toc: true\n",
        "draft: false\n",
        "format:\n",
        "  html:\n",
        "    code-fold: false\n",
        "comments:\n",
        "  giscus:\n",
        "    repo: kr9268/giscus_for_blog\n",
        "abstract: > \n",
        "  Python, win32를 활용한 SAP Scripting\n",
        "---"
      ]
    },
    {
      "cell_type": "markdown",
      "id": "225d807a",
      "metadata": {},
      "source": [
        "## 개요 \n",
        "\n",
        "* 필요한 정보가 여러 탭에 산재되어있거나, 줄 글로 뭉쳐져있어 별도의 가공/복사과정없이 주요정보를 바로 사용하게 해주는 Tool\n",
        "* 확인가능한 정보 : Sales Org, Plant(Code,Name), POL, POD, HSCODE, Description\n",
        "\n",
        "## 사용법 및 설계의도\n",
        "\n",
        "  (1) 1건 확인\n",
        "    * 두번째 박스 sr_no 변수에 SR번호 1개를 입력하면 주요 정보 확인\n",
        "\n",
        "  (2) 여러 건 확인\n",
        "    * 세번째 박스 sr_no 변수의 '''와 '''사이에 모든 SR번호 입력 (\\n, 즉 엔터를 기준으로 구분한다)\n",
        "    (엑셀 등에서 표 형태로 붙여넣는 경우가 많기때문에 사용성을 고려한 옵션)\n",
        "\n",
        "  (3) 엑셀로 저장\n",
        "    * 확인한 내용을 엑셀로 저장하고 싶은 경우, 네번째 박스 실행, 지정된 파일명+오늘날짜를 기준으로 다운로드 함\n",
        "    (몇번이나 쓸까 싶긴 하지만, 언제나 의외의 상황때문에 필요해질 수 있으니 미리 구현해두는 기능)\n"
      ]
    },
    {
      "cell_type": "markdown",
      "id": "c065a1f2",
      "metadata": {},
      "source": [
        "## github repository\n",
        "[관련 github레포](https://github.com/KR9268/-P-Crawl_data_from_SRDisplay)"
      ]
    }
  ],
  "metadata": {
    "kernelspec": {
      "display_name": "Python 3 (ipykernel)",
      "language": "python",
      "name": "python3"
    },
    "language_info": {
      "codemirror_mode": {
        "name": "ipython",
        "version": 3
      },
      "file_extension": ".py",
      "mimetype": "text/x-python",
      "name": "python",
      "nbconvert_exporter": "python",
      "pygments_lexer": "ipython3",
      "version": "3.11.4"
    }
  },
  "nbformat": 4,
  "nbformat_minor": 5
}
