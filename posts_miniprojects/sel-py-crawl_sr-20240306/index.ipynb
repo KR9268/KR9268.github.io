{
  "cells": [
    {
      "cell_type": "raw",
      "id": "de6ec63f",
      "metadata": {
        "vscode": {
          "languageId": "raw"
        }
      },
      "source": [
        "---\n",
        "title: '[Python] ERP(SAP) 특정 메뉴의 주요정보 크롤링 & 정리 Tool'\n",
        "author: 'Kibok Park'\n",
        "date: '2024-03-06'\n",
        "categories: [Python, SAP Scripting]\n",
        "toc: true\n",
        "draft: false\n",
        "format:\n",
        "  html:\n",
        "    code-fold: false\n",
        "comments:\n",
        "  giscus:\n",
        "    repo: kr9268/giscus_for_blog\n",
        "abstract: > \n",
        "  Python, win32를 활용한 SAP Scripting\n",
        "---"
      ]
    },
    {
      "cell_type": "markdown",
      "id": "225d807a",
      "metadata": {},
      "source": [
        "## 추진배경\n",
        "\n",
        "* 사용빈도가 높은 정보가 여러 탭에 나뉘어 있고, 이러한 정보들을 주문(SR)별로 각각 조회하는 불편함이 있음\n",
        "* 유저 화면에서 보여줄 수 있는 행(row)이 4줄로 적고, 필요한 정보를 각각 복사하여 정리하는 불편함이 있음\n",
        "  * 한번에 많은 물품이 포함된 경우, 수십건의 같거나 다른 HSCODE들을 하나의 줄 글로 정리함\n",
        "  * 출발지와 도착지, 제품의 품명 등을 요약하여 요구받는 경우 작업시간이 소요됨\n",
        "* 각 탭 정보를 일괄 크롤링하고, 필요할 때 별도의 가공/복사작업 없이 바로 사용가능한 정보로 제공하도록 함\n",
        "  * 확인가능한 정보 : Sales Org, Plant(Code,Name), POL(출발지), POD(도착지), HSCODE, Description(물품명세)\n",
        "\n",
        ">\n",
        "**[용어설명]**<br>\n",
        "**SR** : 하나의 기본 선적 단위, Shipping request<br>\n",
        "**HSCODE** : 해외로 물건을 보내기 위해 수출신고할 때, (의약품, 전자기기 등)물품 종류를 알 수 있는 제품 코드<br>\n",
        "\n",
        "\n",
        "## 효과\n",
        "* 단건 또는 여러건의 주문(SR)에 대해 건당 1~2초 이내로 필요한 정보 수집\n",
        "* 클립보드 복사가 가능한 텍스트, 엑셀형태로 제공하여 요구사항에 대해 즉시대응 가능\n",
        "\n",
        "## github repository\n",
        "[관련 github레포](https://github.com/KR9268/-P-Crawl_data_from_SRDisplay)\n",
        "\n",
        "## [세부내용] 구현내용 & 사용한 언어/패키지 등\n",
        "(1) 단건 확인시, 코드셀에 붙여넣기 후 실행, 텍스트로 출력하며 `pandas` dataframe으로도 저장하여 필요시 엑셀도 제공\n",
        "(2) 여러건 확인시, 엑셀 등에서 복사한 표를 코드셀에 바로 붙여넣도록 설계(\\n으로 자동 분할, **편의성 고려**함)\n",
        "    이후 작업은 단건 확인과 동일\n",
        "(3) 필요시 엑셀로 저장\n",
        "    (**기존 업무유형상 출력텍스트가 더 많이 활용될 것으로 보여 별도 기능으로 추가함**)"
      ]
    }
  ],
  "metadata": {
    "kernelspec": {
      "display_name": "Python 3 (ipykernel)",
      "language": "python",
      "name": "python3"
    },
    "language_info": {
      "codemirror_mode": {
        "name": "ipython",
        "version": 3
      },
      "file_extension": ".py",
      "mimetype": "text/x-python",
      "name": "python",
      "nbconvert_exporter": "python",
      "pygments_lexer": "ipython3",
      "version": "3.11.4"
    }
  },
  "nbformat": 4,
  "nbformat_minor": 5
}
