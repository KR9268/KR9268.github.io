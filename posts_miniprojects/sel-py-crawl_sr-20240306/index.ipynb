{
  "cells": [
    {
      "cell_type": "raw",
      "id": "de6ec63f",
      "metadata": {
        "vscode": {
          "languageId": "raw"
        }
      },
      "source": [
        "---\n",
        "title: '[Python] ERP(SAP) 특정 메뉴의 주요정보 크롤링 & 정리 Tool'\n",
        "author: 'Kibok Park'\n",
        "date: '2024-03-06'\n",
        "categories: [Python, SAP Scripting]\n",
        "toc: true\n",
        "draft: false\n",
        "format:\n",
        "  html:\n",
        "    code-fold: false\n",
        "comments:\n",
        "  giscus:\n",
        "    repo: kr9268/giscus_for_blog\n",
        "abstract: > \n",
        "  Python, win32를 활용한 SAP Scripting\n",
        "---"
      ]
    },
    {
      "cell_type": "markdown",
      "id": "225d807a",
      "metadata": {},
      "source": [
        "## 추진배경\n",
        "\n",
        "* 각 주문서에 나뉘어있는 사용빈도가 높은 정보가 여러 탭에 나뉘어 있음\n",
        "  * 탭 내에서도 많은 정보를 보여주기 위해 좁은 프레임(4행만 보임)에 많은 정보를 넣어 복사 등을 하기엔 불편함\n",
        "  * 4행만 보이는 물품내역 프레임에 50여건의 물품이 있는 경우 많은 시간 소요\n",
        "    * 크게 조회가능한 모드로 보는 경우에는 제품/모델명/HSCODE의 형식으로 문단형식으로 혼재되어있어 중복제거 등 가공 필수\n",
        "  * 출발/도착지/품명 등을 전체 주문에 대해 확인하고자 하는 경우 건별로 메뉴진입 필요\n",
        "    (일괄로 조회하는 메뉴는 일부 정보 제외되어있음)\n",
        "* 아래의 방안으로 해결하고자 함\n",
        "  * 조회속도가 빠르므로 필요한 정보를 필요할때마다 일괄 크롤링하도록 설계\n",
        "  * 유저의 복사/가공/중복제거의 작업이 패턴화되어있어 미리 진행하여 결과물만 제공\n",
        "    * 대상정보 : Sales Org, Plant(Code,Name), POL(출발지), POD(도착지), HSCODE, Description(물품명세)\n",
        "\n",
        ">\n",
        "**[용어설명]**<br>\n",
        "**SR** : 하나의 기본 선적 단위, Shipping request<br>\n",
        "**HSCODE** : 해외로 물건을 보내기 위해 수출신고할 때, (의약품, 전자기기 등)물품 종류를 알 수 있는 제품 코드<br>\n",
        "\n",
        "\n",
        "## 효과\n",
        "* 단건 또는 여러건의 주문(SR)에 대해 건당 1~2초 이내로 필요한 정보 수집\n",
        "* 클립보드 복사가 가능한 텍스트, 엑셀형태로 제공하여 요구사항에 대해 즉시대응 가능\n",
        "\n",
        "## github repository\n",
        "[관련 github레포](https://github.com/KR9268/-P-Crawl_data_from_SRDisplay)\n",
        "\n",
        "## [세부내용] 구현내용 & 사용한 언어/패키지 등\n",
        "(1) 단건 확인시, 코드셀에 붙여넣기 후 실행, 텍스트로 출력하며 `pandas` dataframe으로도 저장하여 필요시 엑셀도 제공\n",
        "(2) 여러건 확인시, 엑셀 등에서 복사한 표를 코드셀에 바로 붙여넣도록 설계(\\n으로 자동 분할, **편의성 고려**함)\n",
        "    이후 작업은 단건 확인과 동일\n",
        "(3) 필요시 엑셀로 저장\n",
        "    (**기존 업무유형상 출력텍스트가 더 많이 활용될 것으로 보여 별도 기능으로 추가함**)"
      ]
    }
  ],
  "metadata": {
    "kernelspec": {
      "display_name": "Python 3 (ipykernel)",
      "language": "python",
      "name": "python3"
    },
    "language_info": {
      "codemirror_mode": {
        "name": "ipython",
        "version": 3
      },
      "file_extension": ".py",
      "mimetype": "text/x-python",
      "name": "python",
      "nbconvert_exporter": "python",
      "pygments_lexer": "ipython3",
      "version": "3.11.4"
    }
  },
  "nbformat": 4,
  "nbformat_minor": 5
}
