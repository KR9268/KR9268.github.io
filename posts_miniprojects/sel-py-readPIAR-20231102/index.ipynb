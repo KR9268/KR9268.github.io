{
  "cells": [
    {
      "cell_type": "raw",
      "id": "de6ec63f",
      "metadata": {
        "vscode": {
          "languageId": "raw"
        }
      },
      "source": [
        "---\n",
        "title: '[Python] Peak타임 대응용 수출계약서pdf tabula리딩'\n",
        "author: 'Kibok Park'\n",
        "date: '2023-11-02'\n",
        "categories: [Python, tabula, xlwings, pathlib, pandas]\n",
        "toc: true\n",
        "draft: false\n",
        "format:\n",
        "  html:\n",
        "    code-fold: false\n",
        "comments:\n",
        "  giscus:\n",
        "    repo: kr9268/giscus_for_blog\n",
        "abstract: > \n",
        "  [Python] tabula(pdf리딩[표 형태], xlwings(암호화 Excel리딩)\n",
        "---"
      ]
    },
    {
      "cell_type": "markdown",
      "id": "225d807a",
      "metadata": {},
      "source": [
        "## 추진배경\n",
        "\n",
        "* 50~120건의 pdf서류를 아침제공 후 오전 내 입력하도록 요청받아 다른 업무가 불가능할 정도의 피크타임 발생\n",
        "  * 서류제공은 해외의 시차, 고객의 주문시점으로 인해 아침에 제공\n",
        "  * 생산을 하기위한 공장또한 다른 국가에 있고, 생산계획 마감시간 문제\n",
        "  * 각자의 이유(고객이 다양해 시점을 조정하기 어려움, 생산투입자원 조정을 위한 마감시간의 존재)로 조정 어려움\n",
        "* 문제 개선을 위해 아래의 포인트를 확인하였음\n",
        "  * 제공되는 pdf서류는 모두 1장의 동일한 양식이며, 드래그가 가능한 형태\n",
        "    * 드래그가 가능하다면 컴퓨터가 인식하는데도 무리가 없을테니 자동화 도입이 가능할 것이라는 판단\n",
        "  * 입력작업은 엑셀VBA를 활용한 자동화Tool이 개발되어있음\n",
        "  * 시스템 글자수 제한으로 주문번호를 축약하는 별도작업 수행\n",
        "  * 주문번호별로 지불조건 등이 내부시스템의 코드로 매칭되어있는 별도의 관리시스템이 있음\n",
        "* 확인한 사항을 바탕으로 아래의 개선을 수행\n",
        "  * 관리시스템에 이미 있는 정확도가 높은 정보를 main으로 가져옴\n",
        "  * 시스템에서 확인할 수 없는 pdf의 정보들을 크롤링하여 필요한 정보만 식별\n",
        "  * 이미 개발되어있는 자동화입력Tool(엑셀VBA)에 연계가능한 형태로 데이터 가공\n",
        "\n",
        "## 효과\n",
        "* 고객의 주문을 당기거나, 생산계획마감이 지연되거나, 담당자의 과도한 업무가중이 발생하지 않고 문제해결\n",
        "* 이미 개발된 자원(엑셀VBA)에 연동하여 큰 시간을 들이지 않고 개발했으며 업무 투입시간 또한 감소\n",
        "  * 기존에는 4시간 이내의 투입시간이 있었지만, 이번 도입으로 5~10분 정도로 작업이 완료됨\n",
        "  * 기존대비 빠른 완수로 생산담당자 만족, 생산계획이 미뤄지지 않아 납기 등 제품수령 고객도 만족\n",
        "\n",
        "## github repository\n",
        "[관련 github레포](https://github.com/KR9268/-P-Read_PI_AR_only)\n",
        "\n",
        "## [세부내용] 구현내용 & 사용한 언어/패키지 등\n",
        "(1) `json`으로 파일을 저장할 경로정보 및 변환할 코드정보를 관리\n",
        "(2) `xlwings`로 Excel로 저장해둔 기본정보를 열람\n",
        "    * DRM암호화와 관계없이 파일을 읽을 수 있기 때문에 `xlwings`를 채택\n",
        "(3) `tabula`로 pdf를 표 형태로 읽어, 지정된 자리의 정보를 읽고 json형태로 저장\n",
        "(4) json형태로 저장된 정보를 `pandas` DataFrame으로 concat처리 후 저장\n",
        "(5) 시스템 등록을 위해 사용중인 별도의 VBA Tool에 저장된 Excel을 넘기면 업무 완료"
      ]
    }
  ],
  "metadata": {
    "kernelspec": {
      "display_name": "Python 3 (ipykernel)",
      "language": "python",
      "name": "python3"
    },
    "language_info": {
      "codemirror_mode": {
        "name": "ipython",
        "version": 3
      },
      "file_extension": ".py",
      "mimetype": "text/x-python",
      "name": "python",
      "nbconvert_exporter": "python",
      "pygments_lexer": "ipython3",
      "version": "3.11.4"
    }
  },
  "nbformat": 4,
  "nbformat_minor": 5
}
