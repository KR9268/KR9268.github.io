{
  "cells": [
    {
      "cell_type": "raw",
      "id": "de6ec63f",
      "metadata": {
        "vscode": {
          "languageId": "raw"
        }
      },
      "source": [
        "---\n",
        "title: '[Python] Peak타임 대응용 수출계약서pdf tabula리딩'\n",
        "author: 'Kibok Park'\n",
        "date: '2023-11-02'\n",
        "categories: [Python, tabula, xlwings, pathlib, pandas]\n",
        "toc: true\n",
        "draft: false\n",
        "format:\n",
        "  html:\n",
        "    code-fold: false\n",
        "comments:\n",
        "  giscus:\n",
        "    repo: kr9268/giscus_for_blog\n",
        "abstract: > \n",
        "  [Python] tabula(pdf리딩[표 형태], xlwings(암호화 Excel리딩)\n",
        "---"
      ]
    },
    {
      "cell_type": "markdown",
      "id": "225d807a",
      "metadata": {},
      "source": [
        "## 추진배경\n",
        "\n",
        "* 50~120건의 서류를 아침제공 후 오전 내 입력하도록 요청받아 다른 업무가 불가능할 정도의 피크타임 발생\n",
        "  * 시차, 주문접수, 생산계획 등이 맞물려 조정이 불가능한 상황\n",
        "* 동일 양식의 내용이 다른 서류 50~120건이며, 일부 내용은 별도의 수주시스템에 시스템화되어 올려져 있음\n",
        "* 시스템 제약으로 글자수 제한이 있어, 주문번호를 줄이는 등 별도의 작업 수행\n",
        "* 정확도가 높은 수주시스템의 내용(엑셀로 저장)을 기반으로, pdf로 보완하여 자동화 추진\n",
        "\n",
        "## 효과\n",
        "* Tool활용을 위한 기초작업(엑셀 다운로드, pdf저장)에 5~10분 정도 소요되어, 기존 작업시간(~4시간)대비 투입시간 감소\n",
        "* 피크타임 감소 및 생산계획 마감시간 단축\n",
        "\n",
        "## github repository\n",
        "[관련 github레포](https://github.com/KR9268/-P-Read_PI_AR_only)\n",
        "\n",
        "## [세부내용] 구현내용 & 사용한 언어/패키지 등\n",
        "(1) `json`으로 파일을 저장할 경로정보 및 변환할 코드정보를 관리\n",
        "(2) `xlwings`로 Excel로 저장해둔 기본정보를 열람\n",
        "    * DRM암호화와 관계없이 파일을 읽을 수 있기 때문에 `xlwings`를 채택\n",
        "(3) `tabula`로 pdf를 표 형태로 읽어, 지정된 자리의 정보를 읽고 json형태로 저장\n",
        "(4) json형태로 저장된 정보를 `pandas` DataFrame으로 concat처리 후 저장\n",
        "(5) 시스템 등록을 위해 사용중인 별도의 VBA Tool에 저장된 Excel을 넘기면 업무 완료"
      ]
    }
  ],
  "metadata": {
    "kernelspec": {
      "display_name": "Python 3 (ipykernel)",
      "language": "python",
      "name": "python3"
    },
    "language_info": {
      "codemirror_mode": {
        "name": "ipython",
        "version": 3
      },
      "file_extension": ".py",
      "mimetype": "text/x-python",
      "name": "python",
      "nbconvert_exporter": "python",
      "pygments_lexer": "ipython3",
      "version": "3.11.4"
    }
  },
  "nbformat": 4,
  "nbformat_minor": 5
}
