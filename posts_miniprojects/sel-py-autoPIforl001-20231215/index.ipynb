{
  "cells": [
    {
      "cell_type": "raw",
      "id": "de6ec63f",
      "metadata": {
        "vscode": {
          "languageId": "raw"
        }
      },
      "source": [
        "---\n",
        "title: '[Python] 아웃룩 메일열람 & pdf regex리딩 & 시스템 자동등록'\n",
        "author: 'Kibok Park'\n",
        "date: '2023-12-15'\n",
        "categories: [Python, re, xlwings, pandas, pdfminer]\n",
        "execute:\n",
        "  freeze: auto\n",
        "toc: true\n",
        "draft: false\n",
        "format:\n",
        "  html:\n",
        "    code-fold: false\n",
        "comments:\n",
        "  giscus:\n",
        "    repo: kr9268/giscus_for_blog\n",
        "abstract: > \n",
        "  [Python] re(regex), xlwings(암호화 Excel리딩), pdfminer(pdf리딩), pywin32(outlook)\n",
        "---"
      ]
    },
    {
      "cell_type": "markdown",
      "id": "225d807a",
      "metadata": {},
      "source": [
        "## 추진배경\n",
        "\n",
        "* 아래의 문제점/현황에 대해 인식\n",
        "  * pdf서류(PI)에 시스템 등록에 필요한 주소 등 정보가 늘 빠져있어 별도 테이블을 참고하여 등록\n",
        "  * 드래그 가능한 pdf를 제공받아 마우스로 일일히 드래그하여 복사/붙여넣기 반복\n",
        "  * 제공자의 내부규정 문제로 1서류:1메일로 건별 메일로 수령, 많아지면 작업량 증가\n",
        "  * 향후 분쟁대비를 위해, 주문번호를 파일명으로 하여 별도의 공용폴더에 저장\n",
        "  * 여러 서류를 등록하다가 교차하여 잘못넣을시, 고객의 수입절차문제나 오배송 등 발생\n",
        "\n",
        "* 위의 문제점/현황으로 수입문제로 인해 고객이 물품을 받지 못할수 있는 상황을 방지하고자 해결방안 마련\n",
        "  * pdf서류의 regex를 활용한 추출 및 별도 테이블의 정보를 매칭하여 정확도/속도 증가\n",
        "    * 정확도 상승으로 인한 고객의 수입문제, 오배송 문제 등을 미연에 방지\n",
        "    * 추출된 정보에 대해 검증조건을 부여하여 문제있을시 작업을 멈추고 유저에게 공유\n",
        "      * 한국에서 홍콩으로 수출하지만, 책임 및 보험가입구간이 한국에서 미국으로 작성된 경우 등 논리오류\n",
        "  * win32로 아웃룩에서 조건부 추출하여 여러 건에도 바로 서류를 추출하도록 설계\n",
        "  * 추출한 주문번호로 파일명 지정 및 아카이브 자동 저장\n",
        "\n",
        ">\n",
        "**[용어설명]**<br>\n",
        "**PI** : 수출납품계약서로 발주자의 양식 등을 사용함, Proforma Invoice<br>\n",
        "**regex** : 정규표현식, 특정한 규칙을 통해 문자를 검색/편집하는데 사용\n",
        "\n",
        "## 효과\n",
        "* 정확도 향상으로 고객의 수입절차문제나 오배송을 미연에 방지하여 추가비용위험 제거 및 고객만족 제고\n",
        "* `건별 메일열람 - 논리오류 검증 - 시스템 등록(복사/붙여넣기, 별도테이블 참고) - 파일명 변경 및 저장` 등 프로세스 제거 및 유저편의성 증대\n",
        "  * 백그라운드에서 실행되며, 작업이 완료되면 윈도우 toast메시지로 알려 특이사항 발생시 인지 가능\n",
        "\n",
        "\n",
        "## github repository\n",
        "[관련 github레포](https://github.com/KR9268/-P-AutoPIforL001)\n",
        "\n",
        "## [세부내용] 구현내용 & 사용한 언어/패키지 등\n",
        "(1) `pywin32`로 아웃룩을 제어하여 조건에 맞는 pdf첨부 열람 등 진행<br>\n",
        "    * `selenium`은 chrome버전변경 등 영향이 커서 구현했다가 미사용\n",
        "(2) `xlwings`로 Excel로 저장해둔 별도 참고용 테이블을 열람\n",
        "    * DRM암호화와 관계없이 파일을 읽을 수 있기 때문에 `xlwings`를 채택\n",
        "(3) `re`로 pdf의 문자열을 검색하여 필요한 내용을 저장\n",
        "(4) `NERP_PI_LC`(주요 ERP관련 기능에 대해 제작한 파이썬 패키지)으로 시스템 등록 등을 진행\n",
        "(5) `win11toast`로 모든 작업이 완료되면 알림\n",
        "(6) [삭제기능] `selenium`으로 PI제공자에게 자동회신도 했었으나, chrome업데이트 등 안정성 문제로 제외\n",
        "    * 아웃룩 등 smtp발송은 내부규정상 막혀있어 사용하지 않음"
      ]
    }
  ],
  "metadata": {
    "kernelspec": {
      "display_name": "Python 3 (ipykernel)",
      "language": "python",
      "name": "python3"
    },
    "language_info": {
      "codemirror_mode": {
        "name": "ipython",
        "version": 3
      },
      "file_extension": ".py",
      "mimetype": "text/x-python",
      "name": "python",
      "nbconvert_exporter": "python",
      "pygments_lexer": "ipython3",
      "version": "3.11.4"
    }
  },
  "nbformat": 4,
  "nbformat_minor": 5
}
