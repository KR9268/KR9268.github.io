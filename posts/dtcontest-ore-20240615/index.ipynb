{
  "cells": [
    {
      "cell_type": "raw",
      "id": "de6ec63f",
      "metadata": {
        "vscode": {
          "languageId": "raw"
        }
      },
      "source": [
        "---\n",
        "title: '[공모전] 공공데이터 공모전-4(모델에 대한 Feature개발 및 평가지표)'\n",
        "author: 'Kibok Park'\n",
        "date: '2024-06-15'\n",
        "categories: ['공모전','공공데이터','분석']\n",
        "toc: true\n",
        "draft: false\n",
        "format:\n",
        "  html:\n",
        "    code-fold: false\n",
        "comments:\n",
        "  giscus:\n",
        "    repo: kr9268/giscus_for_blog\n",
        "---\n",
        "2024년 12회 산업통상자원부 공공데이터 활용 아이디어 공모전 참가 기록.(모델에 대한 Feature개발 및 평가지표)"
      ]
    },
    {
      "cell_type": "markdown",
      "id": "225d807a",
      "metadata": {},
      "source": [
        "## 개요 \n",
        "\n",
        "* 2024년 12회 산업통상자원부 공공데이터 활용 아이디어 공모전 참가해보기로 함\n",
        "  * https://datacontest.kr/apply/applyAdd/3\n",
        "* 분석 대상 광물에 대한 HSCODE 등 기준 고민\n",
        "* 모델 평가지표에 대한 고민 : Recall\n",
        "* 모델에 사용할 지표 개발에 대한 부분 (UN Comtrade 활용)\n",
        "  * 생산국 수출량\n",
        "  * 생산국 판매가격\n",
        "  * 수입국 수입량"
      ]
    },
    {
      "cell_type": "markdown",
      "id": "414184cc",
      "metadata": {},
      "source": [
        "## 내용정리\n",
        "\n",
        "### 지난 회의정리\n",
        "\n",
        "* 모델링에 사용할 지표 중 `시장위험지수` 제거에 대한 동의\n",
        "  * 수급안정화지수에 공통항목이 많아 추이가 비슷하여 제외\n",
        "* Feature 중 하나로 `BDI지수` 추가 \n",
        "* Feature로 사용할 데이터를 추가로 발굴\n",
        "  * [UN Comtrade database](https://comtradeplus.un.org/TradeFlow)에서도 활용할 데이터 있는지 검토(타 팀원 제보)\n",
        "\n",
        "* 잘 만들어진 기존 모델들을 잘 사용하는 방안 고려\n",
        "  * 이상요소 탐지에 R AnomalyDetection패키지 사용 (타 팀원이 적용예정)\n",
        "\n",
        "### 회의내용에 대한 Self고찰 및 아이디어 Develope\n",
        "* 분석할 광물에 대해 어떤 기준을 적용할지 고민\n",
        "  * UN Comtrade를 활용할 때 어떤 HSCODE를 적용할지에 대한 고민\n",
        "    * 한국무역통계진흥원에서 제공하는 [HSCODE분류서비스](https://www.bandtrass.or.kr/hsnavi.do?page=F&site=)를 활용해, 가장 신고율이 높은 HSCODE 채택\n",
        "      * '이차전지용' 등 여러 용도가 있음에도 가장 높은 신고율은 '기타'인 것으로 확인해 이 로직은 Drop\n",
        "    * 현대경제연구원의 [2차전지 보고서](https://www.hri.co.kr/kor/report/report-view.html?mode=2&uid=97723&find_field=total&find_word=2%EC%B0%A8%EC%A0%84%EC%A7%80&page=1) 중 품목별 HSCODE 내용이 있어 활용 검토\n",
        "      * **핵심사업에 사용될 광물에 대한 분석**이라는 점에서, 2차전지 컨셉 차용이 나쁘지 않은 것으로 보여 `활용제안 예정`\n",
        "        * 산화/수산화리튬(282520), 산화/수산화코발트(282200), 황산코발트(283329)\n",
        "        * 탄산리튬(283691), 이산화망간(850610), 산화/수산화니켈(282540), 황산니켈(283324)\n",
        "\n",
        "* 모델링에 사용할 평가기준에 대한 분석\n",
        "  * 위험요소 탐지에 대한 모델이므로 `Recall 사용으로 제안 예정`\n",
        "    * 위기로 '판정'하는게 많아져야 위기를 놓치지 않을 확률이 크므로 Recall이 맞다고 생각했음\n",
        "\n",
        "* 모델링에 사용할 Feature에 대한 생각 (`아래의 3개 지표를 개발하여 활용하도록 의견제안 예정`)\n",
        "  * UN Comtrade의 요소를 바탕으로 아래의 지표를 생성하는 것을 고려\n",
        "    * `생산국 수출량` : 각 광물의 생산량 상위 국가를 from기준으로 하여 수출(공급)량 판단\n",
        "    * `생산국 판매가격` : 각 광물의 판매가격을 수출량으로 나누어 kg당 단가로 판단\n",
        "      * 가격은 CIF, FOB중 기타비용을 제외하는 FOB를 우선고려, 데이터를 보고 추가결정\n",
        "    * `수입국 수입량` : 특정 국가에서 수입량 변동이 급격히 변동(상승)하는 것 탐지"
      ]
    }
  ],
  "metadata": {
    "kernelspec": {
      "display_name": "Python 3 (ipykernel)",
      "language": "python",
      "name": "python3"
    },
    "language_info": {
      "codemirror_mode": {
        "name": "ipython",
        "version": 3
      },
      "file_extension": ".py",
      "mimetype": "text/x-python",
      "name": "python",
      "nbconvert_exporter": "python",
      "pygments_lexer": "ipython3",
      "version": "3.11.4"
    }
  },
  "nbformat": 4,
  "nbformat_minor": 5
}
