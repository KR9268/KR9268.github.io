{
  "cells": [
    {
      "cell_type": "raw",
      "id": "de6ec63f",
      "metadata": {
        "vscode": {
          "languageId": "raw"
        }
      },
      "source": [
        "---\n",
        "title: '[M_Study_별도 공부] Keras Tuner'\n",
        "author: 'Kibok Park'\n",
        "date: '2024-07-10'\n",
        "categories: ['파이썬', '머신러닝', '딥러닝', 'MStudy', 'FDS']\n",
        "toc: true\n",
        "draft: false\n",
        "format:\n",
        "  html:\n",
        "    code-fold: false\n",
        "comments:\n",
        "  giscus:\n",
        "    repo: kr9268/giscus_for_blog\n",
        "---\n",
        "Kaggle(Credit Card Fraud detection)\n",
        "Keras Tuner실습"
      ]
    },
    {
      "cell_type": "markdown",
      "id": "d839941b",
      "metadata": {},
      "source": [
        "# 개요 \n",
        "\n",
        "Credit Card Fraud detection 과제 중 Kaggle에서 Tuner 관련 글을 보고 실습해봅니다<br>\n",
        "* 링크 : [https://www.kaggle.com/code/suvroo/advance-hyperparameter-optimization-in-ml-and-dl#Keras-Tuner-](https://www.kaggle.com/code/suvroo/advance-hyperparameter-optimization-in-ml-and-dl#Keras-Tuner-)"
      ]
    },
    {
      "cell_type": "markdown",
      "id": "2ae5011f",
      "metadata": {},
      "source": [
        "# 실습\n",
        "\n",
        "## 데이터 전처리"
      ]
    },
    {
      "cell_type": "code",
      "execution_count": null,
      "id": "5caa069b",
      "metadata": {},
      "outputs": [],
      "source": [
        "import pandas as pd\n",
        "import sqlite3\n",
        "from sklearn.preprocessing import StandardScaler, MinMaxScaler\n",
        "from sklearn.model_selection import train_test_split\n",
        "\n",
        "# Create a connection to the SQLite database\n",
        "conn = sqlite3.connect('creditcard.db')\n",
        "\n",
        "# Read the data from the database into a pandas DataFrame\n",
        "df = pd.read_sql_query(\"SELECT * FROM creditcard\", conn)\n",
        "\n",
        "# Close the connection\n",
        "conn.close()\n",
        "\n",
        "# 거래액 0인 값 제거\n",
        "df_filtered1 = df[df['Amount'] != 0].copy()\n",
        "df_filtered1\n",
        "\n",
        "# Dataset 나누고 Scaler 적용\n",
        "df_x = df_filtered1.drop(['Time', 'Class'], axis=1).copy()\n",
        "df_y = df_filtered1['Class'].copy()\n",
        "\n",
        "scaler_minmax = MinMaxScaler()\n",
        "df_x_scaled = scaler_minmax.fit_transform(df_x)\n",
        "\n",
        "scaler_std = StandardScaler()\n",
        "df_x_scaled = scaler_std.fit_transform(df_x_scaled)\n",
        "\n",
        "# train + test\n",
        "x_train, x_test = train_test_split(df_x_scaled, test_size=0.3)\n",
        "y_train, y_test = train_test_split(df_y, test_size=0.3)\n",
        "\n",
        "# train + validation\n",
        "x_train, x_validate = train_test_split(x_train, test_size=0.3)\n",
        "y_train, y_validate = train_test_split(y_train, test_size=0.3)"
      ]
    },
    {
      "cell_type": "markdown",
      "id": "3305cb4c",
      "metadata": {},
      "source": [
        "## Keras Tuner - Optimizer 설정 예제"
      ]
    },
    {
      "cell_type": "code",
      "execution_count": null,
      "id": "6946db95",
      "metadata": {},
      "outputs": [],
      "source": [
        "import tensorflow as tf\n",
        "import keras_tuner as kt"
      ]
    },
    {
      "cell_type": "code",
      "execution_count": null,
      "id": "6803fb7a",
      "metadata": {},
      "outputs": [
        {
          "name": "stdout",
          "output_type": "stream",
          "text": [
            "Trial 2 Complete [00h 00m 56s]\n",
            "val_F1Score: 0.002878308529034257\n",
            "\n",
            "Best val_F1Score So Far: 0.002878308529034257\n",
            "Total elapsed time: 00h 01m 57s\n"
          ]
        }
      ],
      "source": [
        "def build_model(hp):\n",
        "    model = tf.keras.models.Sequential([\n",
        "        tf.keras.layers.Input((29,1)),\n",
        "        tf.keras.layers.Flatten(),\n",
        "        tf.keras.layers.Dense(128, activation='relu'),\n",
        "        tf.keras.layers.Dropout(0.2),\n",
        "        tf.keras.layers.Dense(1, activation='sigmoid') # 이진분류이므로 Sigmoid사용\n",
        "    ])\n",
        "\n",
        "    # For optimizer\n",
        "    optimizer=hp.Choice('optimizer',values=['Nadam','adam','sgd','rmsprop', 'Ftrl','Adamax','adadelta','Adagrad'])\n",
        "     \n",
        "    model.compile(optimizer=optimizer, loss='binary_crossentropy',metrics=['F1Score'])\n",
        "    \n",
        "    return model\n",
        "\n",
        "tuner=kt.RandomSearch(build_model,\n",
        "                     objective=kt.Objective('val_loss', direction='min'),\n",
        "                     overwrite=True,\n",
        "                     max_trials=9)\n",
        "\n",
        "tuner.search(x_train,y_train,epochs=5,validation_data=(x_test,y_test))"
      ]
    },
    {
      "cell_type": "markdown",
      "id": "054ed0fc",
      "metadata": {},
      "source": [
        "* Best Optimizer 출력"
      ]
    },
    {
      "cell_type": "code",
      "execution_count": null,
      "id": "e77713a1",
      "metadata": {},
      "outputs": [
        {
          "data": {
            "text/plain": [
              "{'optimizer': 'Nadam'}"
            ]
          },
          "metadata": {},
          "output_type": "display_data"
        }
      ],
      "source": [
        "tuner.get_best_hyperparameters()[0].values"
      ]
    },
    {
      "cell_type": "markdown",
      "id": "261f67de",
      "metadata": {},
      "source": [
        "## Keras Tuner - Neuron 수 설정 예제"
      ]
    },
    {
      "cell_type": "code",
      "execution_count": null,
      "id": "4ab39c28",
      "metadata": {},
      "outputs": [
        {
          "name": "stdout",
          "output_type": "stream",
          "text": [
            "Trial 9 Complete [00h 00m 44s]\n",
            "val_loss: 0.012561993673443794\n",
            "\n",
            "Best val_loss So Far: 0.012475043535232544\n",
            "Total elapsed time: 00h 06m 42s\n"
          ]
        }
      ],
      "source": [
        "def build_model(hp):\n",
        "    model = tf.keras.models.Sequential()\n",
        "\n",
        "    # For Neurons\n",
        "    units=hp.Int('units',min_value=5,max_value=150,step=5)\n",
        "\n",
        "    model.add(tf.keras.layers.Input((29,1)))\n",
        "    model.add(tf.keras.layers.Flatten())\n",
        "    model.add(tf.keras.layers.Dense(units, activation='relu'))\n",
        "    model.add(tf.keras.layers.Dropout(0.2))\n",
        "    model.add(tf.keras.layers.Dense(1, activation='sigmoid')) # 이진분류이므로 Sigmoid사용\n",
        "\n",
        "    model.compile(optimizer='Nadam', loss='binary_crossentropy',metrics=['F1Score'])\n",
        "    \n",
        "    return model\n",
        "\n",
        "tuner=kt.RandomSearch(build_model,\n",
        "                     objective=kt.Objective('val_loss', direction='min'),# accuracy 미사용\n",
        "                     overwrite=True,\n",
        "                     max_trials=9,\n",
        "                     project_name='randomsearch_neuron')\n",
        "\n",
        "tuner.search(x_train,y_train,epochs=10,validation_data=(x_test,y_test))"
      ]
    },
    {
      "cell_type": "markdown",
      "id": "31e48544",
      "metadata": {},
      "source": [
        "* Best Neuron의 수 출력"
      ]
    },
    {
      "cell_type": "code",
      "execution_count": null,
      "id": "d699e339",
      "metadata": {},
      "outputs": [
        {
          "data": {
            "text/plain": [
              "{'units': 130}"
            ]
          },
          "metadata": {},
          "output_type": "display_data"
        }
      ],
      "source": [
        "tuner.get_best_hyperparameters()[0].values"
      ]
    },
    {
      "cell_type": "markdown",
      "id": "32d1f8f7",
      "metadata": {},
      "source": [
        "## Keras Tuner - Hidden layer수 설정 예제"
      ]
    },
    {
      "cell_type": "code",
      "execution_count": null,
      "id": "87f57c34",
      "metadata": {},
      "outputs": [
        {
          "name": "stdout",
          "output_type": "stream",
          "text": [
            "Trial 9 Complete [00h 01m 35s]\n",
            "val_loss: 0.012566009536385536\n",
            "\n",
            "Best val_loss So Far: 0.012515497393906116\n",
            "Total elapsed time: 00h 10m 45s\n"
          ]
        }
      ],
      "source": [
        "def build_model(hp):\n",
        "    model = tf.keras.models.Sequential()\n",
        "\n",
        "    model.add(tf.keras.layers.Input((29,1)))\n",
        "    model.add(tf.keras.layers.Flatten())\n",
        "    model.add(tf.keras.layers.Dense(130, activation='relu'))\n",
        "\n",
        "    # For Hidden Layers\n",
        "    for i in range(hp.Int('number_of_layers',min_value=1,max_value=10)):\n",
        "        model.add(tf.keras.layers.Dense(130,activation='relu'))\n",
        "\n",
        "    model.add(tf.keras.layers.Dropout(0.2))\n",
        "    model.add(tf.keras.layers.Dense(1, activation='sigmoid')) # 이진분류이므로 Sigmoid사용\n",
        "\n",
        "    model.compile(optimizer='Adamax', loss='binary_crossentropy',metrics=['F1Score'])\n",
        "    return model\n",
        "\n",
        "tuner=kt.RandomSearch(build_model,\n",
        "                     objective=kt.Objective('val_loss', direction='min'),# accuracy 미사용\n",
        "                     overwrite=True,\n",
        "                     max_trials=9,\n",
        "                     project_name='randomsearch_hidden_layer')\n",
        "\n",
        "tuner.search(x_train,y_train,epochs=10,validation_data=(x_test,y_test))"
      ]
    },
    {
      "cell_type": "markdown",
      "id": "c6330173",
      "metadata": {},
      "source": [
        "* Best Hidden Layer의 수 출력"
      ]
    },
    {
      "cell_type": "code",
      "execution_count": null,
      "id": "9f4f0992",
      "metadata": {},
      "outputs": [
        {
          "data": {
            "text/plain": [
              "{'number_of_layers': 8}"
            ]
          },
          "metadata": {},
          "output_type": "display_data"
        }
      ],
      "source": [
        "tuner.get_best_hyperparameters()[0].values"
      ]
    },
    {
      "cell_type": "markdown",
      "id": "23e6f416",
      "metadata": {},
      "source": [
        "## Keras Tuner - Optimizer, Neuron, Hidden layer 등 동시설정 예제"
      ]
    },
    {
      "cell_type": "code",
      "execution_count": null,
      "id": "d8fd409b",
      "metadata": {},
      "outputs": [
        {
          "name": "stdout",
          "output_type": "stream",
          "text": [
            "Trial 9 Complete [00h 01m 10s]\n",
            "val_F1Score: 0.0028702165000140667\n",
            "\n",
            "Best val_F1Score So Far: 0.0028861388564109802\n",
            "Total elapsed time: 00h 18m 28s\n"
          ]
        }
      ],
      "source": [
        "def build_model(hp):\n",
        "    model = tf.keras.models.Sequential()\n",
        "\n",
        "    # Input & Flatten\n",
        "    model.add(tf.keras.layers.Input((29,1)))\n",
        "    model.add(tf.keras.layers.Flatten())\n",
        "\n",
        "    # Hidden Layers\n",
        "    for i in range(hp.Int('num_layers',min_value=1,max_value=20)):\n",
        "\n",
        "        # For Dense\n",
        "        units = hp.Int('units',min_value=5,max_value=150,step=5) # For Neurons\n",
        "        activation = hp.Choice('activation'+str(i),values=['relu','elu']) # For Activation\n",
        "\n",
        "        model.add(tf.keras.layers.Dense(units, activation=activation))\n",
        "\n",
        "        # For Dropout\n",
        "        dropout_rate = hp.Choice('dropout'+str(i),values=[0.1,0.2,0.3,0.4,0.5,0.6,0.7,0.8,0.9])\n",
        "\n",
        "        model.add(tf.keras.layers.Dropout(dropout_rate))\n",
        "\n",
        "    model.add(tf.keras.layers.Dense(1, activation='sigmoid')) # 이진분류이므로 Sigmoid사용\n",
        "        \n",
        "    \n",
        "    optimizer=hp.Choice('optimizer',values=['Nadam'])\n",
        "    model.compile(optimizer=optimizer, loss='binary_crossentropy',metrics=['F1Score'])\n",
        "    \n",
        "    return model\n",
        "\n",
        "with tf.device('/device:GPU:0'):\n",
        "    tuner=kt.RandomSearch(build_model,\n",
        "                        objective=kt.Objective('val_F1Score', direction='max'),# accuracy 미사용\n",
        "                        overwrite=True,\n",
        "                        max_trials=9,\n",
        "                        project_name='randomsearch_model')\n",
        "\n",
        "\n",
        "    tuner.search(x_train,y_train,epochs=10,validation_data=(x_test,y_test))"
      ]
    },
    {
      "cell_type": "code",
      "execution_count": null,
      "id": "2b19fb1d",
      "metadata": {},
      "outputs": [
        {
          "data": {
            "text/plain": [
              "{'num_layers': 12,\n",
              " 'units': 90,\n",
              " 'activation0': 'relu',\n",
              " 'dropout0': 0.9,\n",
              " 'optimizer': 'Nadam',\n",
              " 'activation1': 'relu',\n",
              " 'dropout1': 0.1,\n",
              " 'activation2': 'relu',\n",
              " 'dropout2': 0.1,\n",
              " 'activation3': 'relu',\n",
              " 'dropout3': 0.1,\n",
              " 'activation4': 'relu',\n",
              " 'dropout4': 0.1,\n",
              " 'activation5': 'relu',\n",
              " 'dropout5': 0.1,\n",
              " 'activation6': 'relu',\n",
              " 'dropout6': 0.1,\n",
              " 'activation7': 'relu',\n",
              " 'dropout7': 0.1,\n",
              " 'activation8': 'relu',\n",
              " 'dropout8': 0.1,\n",
              " 'activation9': 'relu',\n",
              " 'dropout9': 0.1,\n",
              " 'activation10': 'relu',\n",
              " 'dropout10': 0.1,\n",
              " 'activation11': 'relu',\n",
              " 'dropout11': 0.1}"
            ]
          },
          "metadata": {},
          "output_type": "display_data"
        }
      ],
      "source": [
        "tuner.get_best_hyperparameters()[0].values"
      ]
    },
    {
      "cell_type": "markdown",
      "id": "ac37ef6b",
      "metadata": {},
      "source": [
        "## Keras Tuner - 모델 저장"
      ]
    },
    {
      "cell_type": "code",
      "execution_count": null,
      "id": "27c07095",
      "metadata": {},
      "outputs": [
        {
          "name": "stderr",
          "output_type": "stream",
          "text": [
            "c:\\Users\\kibok\\AppData\\Local\\Programs\\Python\\Python312\\Lib\\site-packages\\keras\\src\\saving\\saving_lib.py:576: UserWarning: Skipping variable loading for optimizer 'nadam', because it has 2 variables whereas the saved optimizer has 55 variables. \n",
            "  saveable.load_own_variables(weights_store.get(inner_path))\n"
          ]
        },
        {
          "data": {
            "text/html": [
              "<pre style=\"white-space:pre;overflow-x:auto;line-height:normal;font-family:Menlo,'DejaVu Sans Mono',consolas,'Courier New',monospace\"><span style=\"font-weight: bold\">Model: \"sequential\"</span>\n",
              "</pre>\n"
            ],
            "text/plain": [
              "\u001b[1mModel: \"sequential\"\u001b[0m\n"
            ]
          },
          "metadata": {},
          "output_type": "display_data"
        },
        {
          "data": {
            "text/html": [
              "<pre style=\"white-space:pre;overflow-x:auto;line-height:normal;font-family:Menlo,'DejaVu Sans Mono',consolas,'Courier New',monospace\">┏━━━━━━━━━━━━━━━━━━━━━━━━━━━━━━━━━┳━━━━━━━━━━━━━━━━━━━━━━━━┳━━━━━━━━━━━━━━━┓\n",
              "┃<span style=\"font-weight: bold\"> Layer (type)                    </span>┃<span style=\"font-weight: bold\"> Output Shape           </span>┃<span style=\"font-weight: bold\">       Param # </span>┃\n",
              "┡━━━━━━━━━━━━━━━━━━━━━━━━━━━━━━━━━╇━━━━━━━━━━━━━━━━━━━━━━━━╇━━━━━━━━━━━━━━━┩\n",
              "│ flatten (<span style=\"color: #0087ff; text-decoration-color: #0087ff\">Flatten</span>)               │ (<span style=\"color: #00d7ff; text-decoration-color: #00d7ff\">None</span>, <span style=\"color: #00af00; text-decoration-color: #00af00\">29</span>)             │             <span style=\"color: #00af00; text-decoration-color: #00af00\">0</span> │\n",
              "├─────────────────────────────────┼────────────────────────┼───────────────┤\n",
              "│ dense (<span style=\"color: #0087ff; text-decoration-color: #0087ff\">Dense</span>)                   │ (<span style=\"color: #00d7ff; text-decoration-color: #00d7ff\">None</span>, <span style=\"color: #00af00; text-decoration-color: #00af00\">90</span>)             │         <span style=\"color: #00af00; text-decoration-color: #00af00\">2,700</span> │\n",
              "├─────────────────────────────────┼────────────────────────┼───────────────┤\n",
              "│ dropout (<span style=\"color: #0087ff; text-decoration-color: #0087ff\">Dropout</span>)               │ (<span style=\"color: #00d7ff; text-decoration-color: #00d7ff\">None</span>, <span style=\"color: #00af00; text-decoration-color: #00af00\">90</span>)             │             <span style=\"color: #00af00; text-decoration-color: #00af00\">0</span> │\n",
              "├─────────────────────────────────┼────────────────────────┼───────────────┤\n",
              "│ dense_1 (<span style=\"color: #0087ff; text-decoration-color: #0087ff\">Dense</span>)                 │ (<span style=\"color: #00d7ff; text-decoration-color: #00d7ff\">None</span>, <span style=\"color: #00af00; text-decoration-color: #00af00\">90</span>)             │         <span style=\"color: #00af00; text-decoration-color: #00af00\">8,190</span> │\n",
              "├─────────────────────────────────┼────────────────────────┼───────────────┤\n",
              "│ dropout_1 (<span style=\"color: #0087ff; text-decoration-color: #0087ff\">Dropout</span>)             │ (<span style=\"color: #00d7ff; text-decoration-color: #00d7ff\">None</span>, <span style=\"color: #00af00; text-decoration-color: #00af00\">90</span>)             │             <span style=\"color: #00af00; text-decoration-color: #00af00\">0</span> │\n",
              "├─────────────────────────────────┼────────────────────────┼───────────────┤\n",
              "│ dense_2 (<span style=\"color: #0087ff; text-decoration-color: #0087ff\">Dense</span>)                 │ (<span style=\"color: #00d7ff; text-decoration-color: #00d7ff\">None</span>, <span style=\"color: #00af00; text-decoration-color: #00af00\">90</span>)             │         <span style=\"color: #00af00; text-decoration-color: #00af00\">8,190</span> │\n",
              "├─────────────────────────────────┼────────────────────────┼───────────────┤\n",
              "│ dropout_2 (<span style=\"color: #0087ff; text-decoration-color: #0087ff\">Dropout</span>)             │ (<span style=\"color: #00d7ff; text-decoration-color: #00d7ff\">None</span>, <span style=\"color: #00af00; text-decoration-color: #00af00\">90</span>)             │             <span style=\"color: #00af00; text-decoration-color: #00af00\">0</span> │\n",
              "├─────────────────────────────────┼────────────────────────┼───────────────┤\n",
              "│ dense_3 (<span style=\"color: #0087ff; text-decoration-color: #0087ff\">Dense</span>)                 │ (<span style=\"color: #00d7ff; text-decoration-color: #00d7ff\">None</span>, <span style=\"color: #00af00; text-decoration-color: #00af00\">90</span>)             │         <span style=\"color: #00af00; text-decoration-color: #00af00\">8,190</span> │\n",
              "├─────────────────────────────────┼────────────────────────┼───────────────┤\n",
              "│ dropout_3 (<span style=\"color: #0087ff; text-decoration-color: #0087ff\">Dropout</span>)             │ (<span style=\"color: #00d7ff; text-decoration-color: #00d7ff\">None</span>, <span style=\"color: #00af00; text-decoration-color: #00af00\">90</span>)             │             <span style=\"color: #00af00; text-decoration-color: #00af00\">0</span> │\n",
              "├─────────────────────────────────┼────────────────────────┼───────────────┤\n",
              "│ dense_4 (<span style=\"color: #0087ff; text-decoration-color: #0087ff\">Dense</span>)                 │ (<span style=\"color: #00d7ff; text-decoration-color: #00d7ff\">None</span>, <span style=\"color: #00af00; text-decoration-color: #00af00\">90</span>)             │         <span style=\"color: #00af00; text-decoration-color: #00af00\">8,190</span> │\n",
              "├─────────────────────────────────┼────────────────────────┼───────────────┤\n",
              "│ dropout_4 (<span style=\"color: #0087ff; text-decoration-color: #0087ff\">Dropout</span>)             │ (<span style=\"color: #00d7ff; text-decoration-color: #00d7ff\">None</span>, <span style=\"color: #00af00; text-decoration-color: #00af00\">90</span>)             │             <span style=\"color: #00af00; text-decoration-color: #00af00\">0</span> │\n",
              "├─────────────────────────────────┼────────────────────────┼───────────────┤\n",
              "│ dense_5 (<span style=\"color: #0087ff; text-decoration-color: #0087ff\">Dense</span>)                 │ (<span style=\"color: #00d7ff; text-decoration-color: #00d7ff\">None</span>, <span style=\"color: #00af00; text-decoration-color: #00af00\">90</span>)             │         <span style=\"color: #00af00; text-decoration-color: #00af00\">8,190</span> │\n",
              "├─────────────────────────────────┼────────────────────────┼───────────────┤\n",
              "│ dropout_5 (<span style=\"color: #0087ff; text-decoration-color: #0087ff\">Dropout</span>)             │ (<span style=\"color: #00d7ff; text-decoration-color: #00d7ff\">None</span>, <span style=\"color: #00af00; text-decoration-color: #00af00\">90</span>)             │             <span style=\"color: #00af00; text-decoration-color: #00af00\">0</span> │\n",
              "├─────────────────────────────────┼────────────────────────┼───────────────┤\n",
              "│ dense_6 (<span style=\"color: #0087ff; text-decoration-color: #0087ff\">Dense</span>)                 │ (<span style=\"color: #00d7ff; text-decoration-color: #00d7ff\">None</span>, <span style=\"color: #00af00; text-decoration-color: #00af00\">90</span>)             │         <span style=\"color: #00af00; text-decoration-color: #00af00\">8,190</span> │\n",
              "├─────────────────────────────────┼────────────────────────┼───────────────┤\n",
              "│ dropout_6 (<span style=\"color: #0087ff; text-decoration-color: #0087ff\">Dropout</span>)             │ (<span style=\"color: #00d7ff; text-decoration-color: #00d7ff\">None</span>, <span style=\"color: #00af00; text-decoration-color: #00af00\">90</span>)             │             <span style=\"color: #00af00; text-decoration-color: #00af00\">0</span> │\n",
              "├─────────────────────────────────┼────────────────────────┼───────────────┤\n",
              "│ dense_7 (<span style=\"color: #0087ff; text-decoration-color: #0087ff\">Dense</span>)                 │ (<span style=\"color: #00d7ff; text-decoration-color: #00d7ff\">None</span>, <span style=\"color: #00af00; text-decoration-color: #00af00\">90</span>)             │         <span style=\"color: #00af00; text-decoration-color: #00af00\">8,190</span> │\n",
              "├─────────────────────────────────┼────────────────────────┼───────────────┤\n",
              "│ dropout_7 (<span style=\"color: #0087ff; text-decoration-color: #0087ff\">Dropout</span>)             │ (<span style=\"color: #00d7ff; text-decoration-color: #00d7ff\">None</span>, <span style=\"color: #00af00; text-decoration-color: #00af00\">90</span>)             │             <span style=\"color: #00af00; text-decoration-color: #00af00\">0</span> │\n",
              "├─────────────────────────────────┼────────────────────────┼───────────────┤\n",
              "│ dense_8 (<span style=\"color: #0087ff; text-decoration-color: #0087ff\">Dense</span>)                 │ (<span style=\"color: #00d7ff; text-decoration-color: #00d7ff\">None</span>, <span style=\"color: #00af00; text-decoration-color: #00af00\">90</span>)             │         <span style=\"color: #00af00; text-decoration-color: #00af00\">8,190</span> │\n",
              "├─────────────────────────────────┼────────────────────────┼───────────────┤\n",
              "│ dropout_8 (<span style=\"color: #0087ff; text-decoration-color: #0087ff\">Dropout</span>)             │ (<span style=\"color: #00d7ff; text-decoration-color: #00d7ff\">None</span>, <span style=\"color: #00af00; text-decoration-color: #00af00\">90</span>)             │             <span style=\"color: #00af00; text-decoration-color: #00af00\">0</span> │\n",
              "├─────────────────────────────────┼────────────────────────┼───────────────┤\n",
              "│ dense_9 (<span style=\"color: #0087ff; text-decoration-color: #0087ff\">Dense</span>)                 │ (<span style=\"color: #00d7ff; text-decoration-color: #00d7ff\">None</span>, <span style=\"color: #00af00; text-decoration-color: #00af00\">90</span>)             │         <span style=\"color: #00af00; text-decoration-color: #00af00\">8,190</span> │\n",
              "├─────────────────────────────────┼────────────────────────┼───────────────┤\n",
              "│ dropout_9 (<span style=\"color: #0087ff; text-decoration-color: #0087ff\">Dropout</span>)             │ (<span style=\"color: #00d7ff; text-decoration-color: #00d7ff\">None</span>, <span style=\"color: #00af00; text-decoration-color: #00af00\">90</span>)             │             <span style=\"color: #00af00; text-decoration-color: #00af00\">0</span> │\n",
              "├─────────────────────────────────┼────────────────────────┼───────────────┤\n",
              "│ dense_10 (<span style=\"color: #0087ff; text-decoration-color: #0087ff\">Dense</span>)                │ (<span style=\"color: #00d7ff; text-decoration-color: #00d7ff\">None</span>, <span style=\"color: #00af00; text-decoration-color: #00af00\">90</span>)             │         <span style=\"color: #00af00; text-decoration-color: #00af00\">8,190</span> │\n",
              "├─────────────────────────────────┼────────────────────────┼───────────────┤\n",
              "│ dropout_10 (<span style=\"color: #0087ff; text-decoration-color: #0087ff\">Dropout</span>)            │ (<span style=\"color: #00d7ff; text-decoration-color: #00d7ff\">None</span>, <span style=\"color: #00af00; text-decoration-color: #00af00\">90</span>)             │             <span style=\"color: #00af00; text-decoration-color: #00af00\">0</span> │\n",
              "├─────────────────────────────────┼────────────────────────┼───────────────┤\n",
              "│ dense_11 (<span style=\"color: #0087ff; text-decoration-color: #0087ff\">Dense</span>)                │ (<span style=\"color: #00d7ff; text-decoration-color: #00d7ff\">None</span>, <span style=\"color: #00af00; text-decoration-color: #00af00\">90</span>)             │         <span style=\"color: #00af00; text-decoration-color: #00af00\">8,190</span> │\n",
              "├─────────────────────────────────┼────────────────────────┼───────────────┤\n",
              "│ dropout_11 (<span style=\"color: #0087ff; text-decoration-color: #0087ff\">Dropout</span>)            │ (<span style=\"color: #00d7ff; text-decoration-color: #00d7ff\">None</span>, <span style=\"color: #00af00; text-decoration-color: #00af00\">90</span>)             │             <span style=\"color: #00af00; text-decoration-color: #00af00\">0</span> │\n",
              "├─────────────────────────────────┼────────────────────────┼───────────────┤\n",
              "│ dense_12 (<span style=\"color: #0087ff; text-decoration-color: #0087ff\">Dense</span>)                │ (<span style=\"color: #00d7ff; text-decoration-color: #00d7ff\">None</span>, <span style=\"color: #00af00; text-decoration-color: #00af00\">1</span>)              │            <span style=\"color: #00af00; text-decoration-color: #00af00\">91</span> │\n",
              "└─────────────────────────────────┴────────────────────────┴───────────────┘\n",
              "</pre>\n"
            ],
            "text/plain": [
              "┏━━━━━━━━━━━━━━━━━━━━━━━━━━━━━━━━━┳━━━━━━━━━━━━━━━━━━━━━━━━┳━━━━━━━━━━━━━━━┓\n",
              "┃\u001b[1m \u001b[0m\u001b[1mLayer (type)                   \u001b[0m\u001b[1m \u001b[0m┃\u001b[1m \u001b[0m\u001b[1mOutput Shape          \u001b[0m\u001b[1m \u001b[0m┃\u001b[1m \u001b[0m\u001b[1m      Param #\u001b[0m\u001b[1m \u001b[0m┃\n",
              "┡━━━━━━━━━━━━━━━━━━━━━━━━━━━━━━━━━╇━━━━━━━━━━━━━━━━━━━━━━━━╇━━━━━━━━━━━━━━━┩\n",
              "│ flatten (\u001b[38;5;33mFlatten\u001b[0m)               │ (\u001b[38;5;45mNone\u001b[0m, \u001b[38;5;34m29\u001b[0m)             │             \u001b[38;5;34m0\u001b[0m │\n",
              "├─────────────────────────────────┼────────────────────────┼───────────────┤\n",
              "│ dense (\u001b[38;5;33mDense\u001b[0m)                   │ (\u001b[38;5;45mNone\u001b[0m, \u001b[38;5;34m90\u001b[0m)             │         \u001b[38;5;34m2,700\u001b[0m │\n",
              "├─────────────────────────────────┼────────────────────────┼───────────────┤\n",
              "│ dropout (\u001b[38;5;33mDropout\u001b[0m)               │ (\u001b[38;5;45mNone\u001b[0m, \u001b[38;5;34m90\u001b[0m)             │             \u001b[38;5;34m0\u001b[0m │\n",
              "├─────────────────────────────────┼────────────────────────┼───────────────┤\n",
              "│ dense_1 (\u001b[38;5;33mDense\u001b[0m)                 │ (\u001b[38;5;45mNone\u001b[0m, \u001b[38;5;34m90\u001b[0m)             │         \u001b[38;5;34m8,190\u001b[0m │\n",
              "├─────────────────────────────────┼────────────────────────┼───────────────┤\n",
              "│ dropout_1 (\u001b[38;5;33mDropout\u001b[0m)             │ (\u001b[38;5;45mNone\u001b[0m, \u001b[38;5;34m90\u001b[0m)             │             \u001b[38;5;34m0\u001b[0m │\n",
              "├─────────────────────────────────┼────────────────────────┼───────────────┤\n",
              "│ dense_2 (\u001b[38;5;33mDense\u001b[0m)                 │ (\u001b[38;5;45mNone\u001b[0m, \u001b[38;5;34m90\u001b[0m)             │         \u001b[38;5;34m8,190\u001b[0m │\n",
              "├─────────────────────────────────┼────────────────────────┼───────────────┤\n",
              "│ dropout_2 (\u001b[38;5;33mDropout\u001b[0m)             │ (\u001b[38;5;45mNone\u001b[0m, \u001b[38;5;34m90\u001b[0m)             │             \u001b[38;5;34m0\u001b[0m │\n",
              "├─────────────────────────────────┼────────────────────────┼───────────────┤\n",
              "│ dense_3 (\u001b[38;5;33mDense\u001b[0m)                 │ (\u001b[38;5;45mNone\u001b[0m, \u001b[38;5;34m90\u001b[0m)             │         \u001b[38;5;34m8,190\u001b[0m │\n",
              "├─────────────────────────────────┼────────────────────────┼───────────────┤\n",
              "│ dropout_3 (\u001b[38;5;33mDropout\u001b[0m)             │ (\u001b[38;5;45mNone\u001b[0m, \u001b[38;5;34m90\u001b[0m)             │             \u001b[38;5;34m0\u001b[0m │\n",
              "├─────────────────────────────────┼────────────────────────┼───────────────┤\n",
              "│ dense_4 (\u001b[38;5;33mDense\u001b[0m)                 │ (\u001b[38;5;45mNone\u001b[0m, \u001b[38;5;34m90\u001b[0m)             │         \u001b[38;5;34m8,190\u001b[0m │\n",
              "├─────────────────────────────────┼────────────────────────┼───────────────┤\n",
              "│ dropout_4 (\u001b[38;5;33mDropout\u001b[0m)             │ (\u001b[38;5;45mNone\u001b[0m, \u001b[38;5;34m90\u001b[0m)             │             \u001b[38;5;34m0\u001b[0m │\n",
              "├─────────────────────────────────┼────────────────────────┼───────────────┤\n",
              "│ dense_5 (\u001b[38;5;33mDense\u001b[0m)                 │ (\u001b[38;5;45mNone\u001b[0m, \u001b[38;5;34m90\u001b[0m)             │         \u001b[38;5;34m8,190\u001b[0m │\n",
              "├─────────────────────────────────┼────────────────────────┼───────────────┤\n",
              "│ dropout_5 (\u001b[38;5;33mDropout\u001b[0m)             │ (\u001b[38;5;45mNone\u001b[0m, \u001b[38;5;34m90\u001b[0m)             │             \u001b[38;5;34m0\u001b[0m │\n",
              "├─────────────────────────────────┼────────────────────────┼───────────────┤\n",
              "│ dense_6 (\u001b[38;5;33mDense\u001b[0m)                 │ (\u001b[38;5;45mNone\u001b[0m, \u001b[38;5;34m90\u001b[0m)             │         \u001b[38;5;34m8,190\u001b[0m │\n",
              "├─────────────────────────────────┼────────────────────────┼───────────────┤\n",
              "│ dropout_6 (\u001b[38;5;33mDropout\u001b[0m)             │ (\u001b[38;5;45mNone\u001b[0m, \u001b[38;5;34m90\u001b[0m)             │             \u001b[38;5;34m0\u001b[0m │\n",
              "├─────────────────────────────────┼────────────────────────┼───────────────┤\n",
              "│ dense_7 (\u001b[38;5;33mDense\u001b[0m)                 │ (\u001b[38;5;45mNone\u001b[0m, \u001b[38;5;34m90\u001b[0m)             │         \u001b[38;5;34m8,190\u001b[0m │\n",
              "├─────────────────────────────────┼────────────────────────┼───────────────┤\n",
              "│ dropout_7 (\u001b[38;5;33mDropout\u001b[0m)             │ (\u001b[38;5;45mNone\u001b[0m, \u001b[38;5;34m90\u001b[0m)             │             \u001b[38;5;34m0\u001b[0m │\n",
              "├─────────────────────────────────┼────────────────────────┼───────────────┤\n",
              "│ dense_8 (\u001b[38;5;33mDense\u001b[0m)                 │ (\u001b[38;5;45mNone\u001b[0m, \u001b[38;5;34m90\u001b[0m)             │         \u001b[38;5;34m8,190\u001b[0m │\n",
              "├─────────────────────────────────┼────────────────────────┼───────────────┤\n",
              "│ dropout_8 (\u001b[38;5;33mDropout\u001b[0m)             │ (\u001b[38;5;45mNone\u001b[0m, \u001b[38;5;34m90\u001b[0m)             │             \u001b[38;5;34m0\u001b[0m │\n",
              "├─────────────────────────────────┼────────────────────────┼───────────────┤\n",
              "│ dense_9 (\u001b[38;5;33mDense\u001b[0m)                 │ (\u001b[38;5;45mNone\u001b[0m, \u001b[38;5;34m90\u001b[0m)             │         \u001b[38;5;34m8,190\u001b[0m │\n",
              "├─────────────────────────────────┼────────────────────────┼───────────────┤\n",
              "│ dropout_9 (\u001b[38;5;33mDropout\u001b[0m)             │ (\u001b[38;5;45mNone\u001b[0m, \u001b[38;5;34m90\u001b[0m)             │             \u001b[38;5;34m0\u001b[0m │\n",
              "├─────────────────────────────────┼────────────────────────┼───────────────┤\n",
              "│ dense_10 (\u001b[38;5;33mDense\u001b[0m)                │ (\u001b[38;5;45mNone\u001b[0m, \u001b[38;5;34m90\u001b[0m)             │         \u001b[38;5;34m8,190\u001b[0m │\n",
              "├─────────────────────────────────┼────────────────────────┼───────────────┤\n",
              "│ dropout_10 (\u001b[38;5;33mDropout\u001b[0m)            │ (\u001b[38;5;45mNone\u001b[0m, \u001b[38;5;34m90\u001b[0m)             │             \u001b[38;5;34m0\u001b[0m │\n",
              "├─────────────────────────────────┼────────────────────────┼───────────────┤\n",
              "│ dense_11 (\u001b[38;5;33mDense\u001b[0m)                │ (\u001b[38;5;45mNone\u001b[0m, \u001b[38;5;34m90\u001b[0m)             │         \u001b[38;5;34m8,190\u001b[0m │\n",
              "├─────────────────────────────────┼────────────────────────┼───────────────┤\n",
              "│ dropout_11 (\u001b[38;5;33mDropout\u001b[0m)            │ (\u001b[38;5;45mNone\u001b[0m, \u001b[38;5;34m90\u001b[0m)             │             \u001b[38;5;34m0\u001b[0m │\n",
              "├─────────────────────────────────┼────────────────────────┼───────────────┤\n",
              "│ dense_12 (\u001b[38;5;33mDense\u001b[0m)                │ (\u001b[38;5;45mNone\u001b[0m, \u001b[38;5;34m1\u001b[0m)              │            \u001b[38;5;34m91\u001b[0m │\n",
              "└─────────────────────────────────┴────────────────────────┴───────────────┘\n"
            ]
          },
          "metadata": {},
          "output_type": "display_data"
        },
        {
          "data": {
            "text/html": [
              "<pre style=\"white-space:pre;overflow-x:auto;line-height:normal;font-family:Menlo,'DejaVu Sans Mono',consolas,'Courier New',monospace\"><span style=\"font-weight: bold\"> Total params: </span><span style=\"color: #00af00; text-decoration-color: #00af00\">92,881</span> (362.82 KB)\n",
              "</pre>\n"
            ],
            "text/plain": [
              "\u001b[1m Total params: \u001b[0m\u001b[38;5;34m92,881\u001b[0m (362.82 KB)\n"
            ]
          },
          "metadata": {},
          "output_type": "display_data"
        },
        {
          "data": {
            "text/html": [
              "<pre style=\"white-space:pre;overflow-x:auto;line-height:normal;font-family:Menlo,'DejaVu Sans Mono',consolas,'Courier New',monospace\"><span style=\"font-weight: bold\"> Trainable params: </span><span style=\"color: #00af00; text-decoration-color: #00af00\">92,881</span> (362.82 KB)\n",
              "</pre>\n"
            ],
            "text/plain": [
              "\u001b[1m Trainable params: \u001b[0m\u001b[38;5;34m92,881\u001b[0m (362.82 KB)\n"
            ]
          },
          "metadata": {},
          "output_type": "display_data"
        },
        {
          "data": {
            "text/html": [
              "<pre style=\"white-space:pre;overflow-x:auto;line-height:normal;font-family:Menlo,'DejaVu Sans Mono',consolas,'Courier New',monospace\"><span style=\"font-weight: bold\"> Non-trainable params: </span><span style=\"color: #00af00; text-decoration-color: #00af00\">0</span> (0.00 B)\n",
              "</pre>\n"
            ],
            "text/plain": [
              "\u001b[1m Non-trainable params: \u001b[0m\u001b[38;5;34m0\u001b[0m (0.00 B)\n"
            ]
          },
          "metadata": {},
          "output_type": "display_data"
        }
      ],
      "source": [
        "model_2= tuner.get_best_models(num_models=1)[0]\n",
        "model_2.summary()"
      ]
    },
    {
      "cell_type": "code",
      "execution_count": null,
      "id": "d932a304",
      "metadata": {},
      "outputs": [
        {
          "name": "stdout",
          "output_type": "stream",
          "text": [
            "Epoch 1/10\n",
            "\u001b[1m4334/4334\u001b[0m \u001b[32m━━━━━━━━━━━━━━━━━━━━\u001b[0m\u001b[37m\u001b[0m \u001b[1m15s\u001b[0m 2ms/step - F1Score: 0.0031 - loss: 0.0463\n",
            "Epoch 2/10\n",
            "\u001b[1m4334/4334\u001b[0m \u001b[32m━━━━━━━━━━━━━━━━━━━━\u001b[0m\u001b[37m\u001b[0m \u001b[1m10s\u001b[0m 2ms/step - F1Score: 0.0034 - loss: 0.0222\n",
            "Epoch 3/10\n",
            "\u001b[1m4334/4334\u001b[0m \u001b[32m━━━━━━━━━━━━━━━━━━━━\u001b[0m\u001b[37m\u001b[0m \u001b[1m10s\u001b[0m 2ms/step - F1Score: 0.0031 - loss: 0.0144\n",
            "Epoch 4/10\n",
            "\u001b[1m4334/4334\u001b[0m \u001b[32m━━━━━━━━━━━━━━━━━━━━\u001b[0m\u001b[37m\u001b[0m \u001b[1m10s\u001b[0m 2ms/step - F1Score: 0.0032 - loss: 0.0202\n",
            "Epoch 5/10\n",
            "\u001b[1m4334/4334\u001b[0m \u001b[32m━━━━━━━━━━━━━━━━━━━━\u001b[0m\u001b[37m\u001b[0m \u001b[1m10s\u001b[0m 2ms/step - F1Score: 0.0034 - loss: 0.0200\n",
            "Epoch 6/10\n",
            "\u001b[1m4334/4334\u001b[0m \u001b[32m━━━━━━━━━━━━━━━━━━━━\u001b[0m\u001b[37m\u001b[0m \u001b[1m10s\u001b[0m 2ms/step - F1Score: 0.0034 - loss: 0.0166\n",
            "Epoch 7/10\n",
            "\u001b[1m4334/4334\u001b[0m \u001b[32m━━━━━━━━━━━━━━━━━━━━\u001b[0m\u001b[37m\u001b[0m \u001b[1m10s\u001b[0m 2ms/step - F1Score: 0.0036 - loss: 0.0167\n",
            "Epoch 8/10\n",
            "\u001b[1m4334/4334\u001b[0m \u001b[32m━━━━━━━━━━━━━━━━━━━━\u001b[0m\u001b[37m\u001b[0m \u001b[1m12s\u001b[0m 3ms/step - F1Score: 0.0032 - loss: 0.0131\n",
            "Epoch 9/10\n",
            "\u001b[1m4334/4334\u001b[0m \u001b[32m━━━━━━━━━━━━━━━━━━━━\u001b[0m\u001b[37m\u001b[0m \u001b[1m11s\u001b[0m 3ms/step - F1Score: 0.0033 - loss: 0.0229\n",
            "Epoch 10/10\n",
            "\u001b[1m4334/4334\u001b[0m \u001b[32m━━━━━━━━━━━━━━━━━━━━\u001b[0m\u001b[37m\u001b[0m \u001b[1m11s\u001b[0m 3ms/step - F1Score: 0.0032 - loss: 0.0216\n",
            "* 모델평가\n",
            "4334/4334 - 4s - 1ms/step - F1Score: 0.0034 - loss: 0.0125\n",
            "2653/2653 - 2s - 787us/step - F1Score: 0.0029 - loss: 0.0113\n"
          ]
        }
      ],
      "source": [
        "# 모델 학습\n",
        "history = model_2.fit(x_train, y_train, epochs=10)\n",
        "\n",
        "# 모델 평가\n",
        "print('* 모델평가')\n",
        "loss, f1score = model_2.evaluate(x_train, y_train, verbose=2)\n",
        "loss, f1score = model_2.evaluate(x_test, y_test, verbose=2)"
      ]
    }
  ],
  "metadata": {
    "kernelspec": {
      "display_name": "Python 3 (ipykernel)",
      "language": "python",
      "name": "python3"
    },
    "language_info": {
      "codemirror_mode": {
        "name": "ipython",
        "version": 3
      },
      "file_extension": ".py",
      "mimetype": "text/x-python",
      "name": "python",
      "nbconvert_exporter": "python",
      "pygments_lexer": "ipython3",
      "version": "3.11.4"
    }
  },
  "nbformat": 4,
  "nbformat_minor": 5
}
