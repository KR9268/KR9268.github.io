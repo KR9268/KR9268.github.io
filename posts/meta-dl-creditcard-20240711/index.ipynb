{
  "cells": [
    {
      "cell_type": "raw",
      "id": "de6ec63f",
      "metadata": {
        "vscode": {
          "languageId": "raw"
        }
      },
      "source": [
        "---\n",
        "title: '[M_Study_최종과제] ??????????'\n",
        "author: 'Kibok Park'\n",
        "date: '2024-07-11'\n",
        "categories: ['파이썬', '머신러닝', '딥러닝', 'MStudy']\n",
        "toc: true\n",
        "draft: true\n",
        "format:\n",
        "  html:\n",
        "    code-fold: false\n",
        "comments:\n",
        "  giscus:\n",
        "    repo: kr9268/giscus_for_blog\n",
        "---"
      ]
    },
    {
      "cell_type": "markdown",
      "id": "d839941b",
      "metadata": {},
      "source": [
        "# 개요 \n",
        "\n",
        "참여중인 딥러닝 스터디 6주차 기록입니다."
      ]
    }
  ],
  "metadata": {
    "kernelspec": {
      "display_name": "Python 3 (ipykernel)",
      "language": "python",
      "name": "python3"
    },
    "language_info": {
      "codemirror_mode": {
        "name": "ipython",
        "version": 3
      },
      "file_extension": ".py",
      "mimetype": "text/x-python",
      "name": "python",
      "nbconvert_exporter": "python",
      "pygments_lexer": "ipython3",
      "version": "3.11.4"
    }
  },
  "nbformat": 4,
  "nbformat_minor": 5
}
