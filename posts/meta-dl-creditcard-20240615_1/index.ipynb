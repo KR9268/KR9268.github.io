{
  "cells": [
    {
      "cell_type": "raw",
      "id": "de6ec63f",
      "metadata": {
        "vscode": {
          "languageId": "raw"
        }
      },
      "source": [
        "---\n",
        "title: '[M_Study_3주차과제1] Softmax로 MNIST다루기'\n",
        "author: 'Kibok Park'\n",
        "date: '2024-06-15'\n",
        "categories: ['파이썬', '머신러닝', '딥러닝', 'MStudy', 'MNIST']\n",
        "toc: true\n",
        "draft: false\n",
        "format:\n",
        "  html:\n",
        "    code-fold: false\n",
        "comments:\n",
        "  giscus:\n",
        "    repo: kr9268/giscus_for_blog\n",
        "---\n",
        "스터디 진행하며 진행한 과제 기록(MNIST, Softmax)"
      ]
    },
    {
      "cell_type": "markdown",
      "id": "d839941b",
      "metadata": {},
      "source": [
        "## 개요 \n",
        "\n",
        "참여중인 딥러닝 스터디 3주차 기록입니다.\n",
        "\n",
        "* Softmax로 MNIST다루기\n",
        "* 강사님이 주신 샘플코드 참고해서, 나에게 맞추거나 추가공부 진행"
      ]
    },
    {
      "cell_type": "markdown",
      "id": "2212f348",
      "metadata": {},
      "source": [
        "## 과제 작성 (Softmax / Linear)"
      ]
    },
    {
      "cell_type": "code",
      "execution_count": 1,
      "id": "c2c7d438",
      "metadata": {},
      "outputs": [],
      "source": [
        "import tensorflow as tf\n",
        "import numpy as np\n",
        "import matplotlib.pyplot as plt\n",
        "from tensorflow.keras.datasets import mnist"
      ]
    },
    {
      "cell_type": "markdown",
      "id": "80da6e03",
      "metadata": {},
      "source": [
        "### Mnist Dataset로딩 및 전처리"
      ]
    },
    {
      "cell_type": "code",
      "execution_count": 2,
      "id": "3cc2dc4b",
      "metadata": {},
      "outputs": [
        {
          "name": "stdout",
          "output_type": "stream",
          "text": [
            "(60000, 28, 28)\n",
            "(60000,)\n",
            "(10000, 28, 28)\n",
            "(10000,)\n"
          ]
        }
      ],
      "source": [
        "(x_train, y_train), (x_test, y_test) = mnist.load_data()\n",
        "for i in (x_train, y_train, x_test, y_test):\n",
        "    print(i.shape)"
      ]
    },
    {
      "cell_type": "markdown",
      "id": "6b3ee50f",
      "metadata": {},
      "source": [
        "#### float변환"
      ]
    },
    {
      "cell_type": "code",
      "execution_count": 11,
      "id": "d17a0531",
      "metadata": {},
      "outputs": [],
      "source": [
        "x_train, x_test = np.array(x_train, np.float32), np.array(x_test, np.float32)"
      ]
    },
    {
      "cell_type": "markdown",
      "id": "c117b8a7",
      "metadata": {},
      "source": [
        "#### Flatten"
      ]
    },
    {
      "cell_type": "code",
      "execution_count": 5,
      "id": "9ca4ba93",
      "metadata": {},
      "outputs": [
        {
          "name": "stdout",
          "output_type": "stream",
          "text": [
            "Flatten전 :  (60000, 28, 28) (10000, 28, 28)\n",
            "Flatten후 :  (60000, 784) (10000, 784)\n"
          ]
        }
      ],
      "source": [
        "# Flatten (num_features=784)\n",
        "num_features = 784 # 28*28 (Data의 Shape)\n",
        "\n",
        "print('Flatten전 : ', x_train.shape, x_test.shape)\n",
        "x_train, x_test = x_train.reshape(-1, num_features), x_test.reshape(-1, num_features)\n",
        "print('Flatten후 : ', x_train.shape, x_test.shape)"
      ]
    },
    {
      "cell_type": "markdown",
      "id": "8e9332c8",
      "metadata": {},
      "source": [
        "#### Normalize"
      ]
    },
    {
      "cell_type": "code",
      "execution_count": 6,
      "id": "8b98cd1a",
      "metadata": {},
      "outputs": [],
      "source": [
        "# Normalize (0~255사이의 값을 0~1 사이의 값으로)\n",
        "x_train, x_test = x_train / 255., x_test / 255."
      ]
    },
    {
      "cell_type": "markdown",
      "id": "39c1206c",
      "metadata": {},
      "source": [
        "### 함수 및 파라메터 설정"
      ]
    },
    {
      "cell_type": "code",
      "execution_count": 7,
      "id": "28184919",
      "metadata": {},
      "outputs": [],
      "source": [
        "# Parameters\n",
        "learning_rate = 0.01\n",
        "training_steps = 1000\n",
        "batch_size = 256\n",
        "\n",
        "num_classes = 10 # MNIST의 0~9 숫자 10개\n",
        "num_features = 784 # 28*28 (Data의 Shape)\n",
        "\n",
        "# Variables\n",
        "W = tf.Variable(tf.ones([num_features, num_classes]), name='weight')\n",
        "b = tf.Variable(tf.zeros([num_classes]), name='bias')\n",
        "\n",
        "# Functions\n",
        "def softmax(x):\n",
        "    z = tf.matmul(x, W) + b\n",
        "    sm = tf.nn.softmax(z)\n",
        "    return sm\n",
        "\n",
        "def cross_entropy(y_pred, y_true):\n",
        "    y_true = tf.one_hot(y_true, depth=num_classes)\n",
        "    y_pred = tf.clip_by_value(y_pred, 1e-9, 1.) # clip_by_value에서 1e-9 최소값지정사유 : \n",
        "    return tf.reduce_mean(-tf.reduce_sum(y_true * tf.math.log(y_pred), axis=-1))"
      ]
    },
    {
      "cell_type": "markdown",
      "id": "fdb0090e",
      "metadata": {},
      "source": [
        "* tf.nn.softmax : 0~1 사이로 출력\n",
        "* tf.one_hot(y_true, depth=num_classes) : y_true인 대상을 depth에 맞춰 원핫인코딩\n",
        "  ```python\n",
        "    # 샘플\n",
        "    tf.one_hot([2], depth=5).numpy()\n",
        "    >>> array([[0., 0., 1., 0., 0.]], dtype=float32)\n",
        "  ```\n",
        "* tf.clip_by_value(y_pred, 1e-9, 1.) : y_pred인 대상을 제시한 min, max에 맞춰 변환\n",
        "  ```python\n",
        "    # 샘플\n",
        "    # 변환 전\n",
        "    t = tf.constant([[-1, 0, 1], [2, 3, 4]], dtype=tf.float32)\n",
        "    t.numpy()\n",
        "    >>> array([[-1.,  0.,  1.],\n",
        "       [ 2.,  3.,  4.]], dtype=float32)\n",
        "    # 변환 후\n",
        "    tf.clip_by_value(t, clip_value_min=0, clip_value_max=2).numpy()\n",
        "    >>> array([[0., 0., 1.],\n",
        "       [2., 2., 2.]], dtype=float32)\n",
        "  ```"
      ]
    },
    {
      "cell_type": "code",
      "execution_count": 8,
      "id": "fb36658f",
      "metadata": {},
      "outputs": [
        {
          "name": "stdout",
          "output_type": "stream",
          "text": [
            "Step : 0 | loss : 2.287696123123169 / accuracy : 0.6875\n",
            "Step : 100 | loss : 1.5578452348709106 / accuracy : 0.7578125\n",
            "Step : 200 | loss : 1.188745379447937 / accuracy : 0.8359375\n",
            "Step : 300 | loss : 1.010088324546814 / accuracy : 0.796875\n",
            "Step : 400 | loss : 0.8610934019088745 / accuracy : 0.859375\n",
            "Step : 500 | loss : 0.807215690612793 / accuracy : 0.8359375\n",
            "Step : 600 | loss : 0.7144550085067749 / accuracy : 0.8671875\n",
            "Step : 700 | loss : 0.7559677362442017 / accuracy : 0.81640625\n",
            "Step : 800 | loss : 0.6656553745269775 / accuracy : 0.8515625\n",
            "Step : 900 | loss : 0.59657222032547 / accuracy : 0.8828125\n"
          ]
        }
      ],
      "source": [
        "# Optimization\n",
        "def accuracy(y_pred, y_true):\n",
        "    correct_prediction = tf.equal(tf.argmax(y_pred, 1), tf.cast(y_true, tf.int64))\n",
        "    return tf.reduce_mean(tf.cast(correct_prediction, tf.float32), axis = 0)\n",
        "\n",
        "def batch_maker(text, data_row, batch_size):\n",
        "    random_idx = np.random.randint(data_row, size = batch_size)\n",
        "    return x_train[random_idx], y_train[random_idx]\n",
        "\n",
        "def run_optimization(x, y):\n",
        "    with tf.GradientTape() as g:\n",
        "        pred = softmax(x)\n",
        "        cost = cross_entropy(pred, y)\n",
        "\n",
        "    gradients = g.gradient(cost, [W, b])\n",
        "\n",
        "    optimizer.apply_gradients(zip(gradients, [W, b]))\n",
        "\n",
        "# Optimizer (Stochastic Gradient Descent)\n",
        "optimizer = tf.optimizers.SGD(learning_rate)\n",
        "\n",
        "for step in range(training_steps): # training_steps = 1000로 위에서 지정해둠\n",
        "    batch_x, batch_y = batch_maker('training', 60000, batch_size) # batch_size = 256로 위에서 지정해둠\n",
        "\n",
        "    run_optimization(batch_x, batch_y)\n",
        "\n",
        "    if step % 100 == 0:\n",
        "        pred = softmax(batch_x)\n",
        "        cost = cross_entropy(pred, batch_y)\n",
        "        acc = accuracy(pred, batch_y)\n",
        "        print(f\"Step : {step} | loss : {cost} / accuracy : {acc}\")\n"
      ]
    },
    {
      "cell_type": "markdown",
      "id": "58b5aa61",
      "metadata": {},
      "source": [
        "### 학습 후 Validation(Test)"
      ]
    },
    {
      "cell_type": "code",
      "execution_count": 9,
      "id": "a06dd500",
      "metadata": {},
      "outputs": [
        {
          "name": "stdout",
          "output_type": "stream",
          "text": [
            "Test accuracy : 0.8716999888420105\n"
          ]
        }
      ],
      "source": [
        "# W와 b가 학습된 model로 Validation(Test Dataset사용)\n",
        "prediction = softmax(x_test)\n",
        "print(f\"Test accuracy : {accuracy(prediction, y_test)}\")"
      ]
    },
    {
      "cell_type": "markdown",
      "id": "df50ef33",
      "metadata": {},
      "source": [
        "### 추가적으로 검증기능 구현해보기"
      ]
    },
    {
      "cell_type": "markdown",
      "id": "d57bff10",
      "metadata": {},
      "source": [
        "* 추가적으로, 아래의 기능을 구현해보았음\n",
        "  * number_to_look을 입력하여 원하는 횟수만큼 모델검증\n",
        "  * randint를 활용하여 랜덤추출, tested_list로 추출내역 관리하여 중복회피\n",
        "  * pyplot으로 형태/예측/정답을 시각화"
      ]
    },
    {
      "cell_type": "code",
      "execution_count": null,
      "id": "e1bb8562",
      "metadata": {},
      "outputs": [
        {
          "data": {
            "image/png": "[encoded data removed]",
            "text/plain": [
              "<Figure size 200x200 with 1 Axes>"
            ]
          },
          "metadata": {},
          "output_type": "display_data"
        },
        {
          "data": {
            "image/png": "[encoded data removed]",
            "text/plain": [
              "<Figure size 200x200 with 1 Axes>"
            ]
          },
          "metadata": {},
          "output_type": "display_data"
        },
        {
          "data": {
            "image/png": "[encoded data removed]",
            "text/plain": [
              "<Figure size 200x200 with 1 Axes>"
            ]
          },
          "metadata": {},
          "output_type": "display_data"
        },
        {
          "data": {
            "image/png": "[encoded data removed]",
            "text/plain": [
              "<Figure size 200x200 with 1 Axes>"
            ]
          },
          "metadata": {},
          "output_type": "display_data"
        }
      ],
      "source": [
        "import koreanize_matplotlib\n",
        "\n",
        "# 시각화로 Validation 확인\n",
        "number_to_look = 4\n",
        "tested_list = []\n",
        "\n",
        "for i in range(number_to_look):\n",
        "    plt.figure(figsize=(2,2))\n",
        "    # 테스트할 데이터 랜덤추출\n",
        "    idx = -1\n",
        "    while idx not in tested_list:\n",
        "        idx = np.random.randint(0, y_test.shape[0])\n",
        "        tested_list.append(idx)\n",
        "\n",
        "    # 결과 확인\n",
        "    plt.xlabel(f\"예상:{np.argmax(prediction[idx])} | 정답:{y_test[idx]}\")\n",
        "    plt.imshow(np.reshape(x_test[idx], [28, 28]), cmap=plt.cm.binary)\n",
        "    plt.show()"
      ]
    }
  ],
  "metadata": {
    "kernelspec": {
      "display_name": "Python 3 (ipykernel)",
      "language": "python",
      "name": "python3"
    },
    "language_info": {
      "codemirror_mode": {
        "name": "ipython",
        "version": 3
      },
      "file_extension": ".py",
      "mimetype": "text/x-python",
      "name": "python",
      "nbconvert_exporter": "python",
      "pygments_lexer": "ipython3",
      "version": "3.11.4"
    }
  },
  "nbformat": 4,
  "nbformat_minor": 5
}
