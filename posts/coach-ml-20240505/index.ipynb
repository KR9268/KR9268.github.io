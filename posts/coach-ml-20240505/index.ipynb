{
  "cells": [
    {
      "cell_type": "raw",
      "id": "de6ec63f",
      "metadata": {
        "vscode": {
          "languageId": "raw"
        }
      },
      "source": [
        "---\n",
        "title: '[Pytorch] MNIST 실습'\n",
        "author: Kibok Park\n",
        "date: '2023-02-19'\n",
        "categories:\n",
        "  - 파이썬, 머신러닝\n",
        "toc: true\n",
        "draft: false\n",
        "format:\n",
        "  html:\n",
        "    code-fold: false\n",
        "comments:\n",
        "  giscus:\n",
        "    repo: kr9268/giscus_for_blog\n",
        "---"
      ]
    },
    {
      "cell_type": "markdown",
      "id": "225d807a",
      "metadata": {},
      "source": [
        "## Pytorch활용한 MNIST 데이터셋 로딩"
      ]
    },
    {
      "cell_type": "code",
      "execution_count": null,
      "id": "fig-polar",
      "metadata": {},
      "outputs": [],
      "source": [
        "import torch\n",
        "import torch.nn as nn\n",
        "from torch.utils.data import DataLoader\n",
        "import torchvision\n",
        "import torchvision.datasets as dset\n",
        "import torchvision.transforms as transforms\n",
        "\n",
        "root = './data'\n",
        "mnist_train = dset.MNIST (root=root, train=True, transform=transforms.ToTensor(), download=True )\n",
        "mnist_test = dset.MNIST (root=root, train=False, transform=transforms.ToTensor(), download=True)\n",
        "\n",
        "# Train용 / Test용 데이터셋\n",
        "train_loader = DataLoader(mnist_train, batch_size=10, shuffle=True)\n",
        "test_loader = DataLoader(mnist_test, batch_size=10, shuffle=True)"
      ]
    },
    {
      "cell_type": "markdown",
      "id": "0cc2e0c0",
      "metadata": {},
      "source": [
        "## 학습준비(가중치 초기화 등)\n",
        " * MNIST의 크기 : 28 * 28\n",
        " * Loss : Cross Entropy\n",
        " * Optimizer - SGD(Stochastic Gradient Descent)\n",
        " * Learning rate = 0.1"
      ]
    },
    {
      "cell_type": "code",
      "execution_count": 6,
      "id": "db135b1a",
      "metadata": {},
      "outputs": [],
      "source": [
        "device = torch.device('cuda' if torch.cuda.is_available() else 'cpu')\n",
        "\n",
        "# 모델 구현 (28*28 = 784 / 0~9라서 10개 / 가중치 사용하므로 bias)\n",
        "linear = torch.nn.Linear(784, 10, bias=True).to(device) \n",
        "\n",
        "# weight init 가중치 초기화\n",
        "torch.nn.init.normal_(linear.weight)\n",
        "\n",
        "# Loss fn - Cross Entropy Loss\n",
        "criterion = torch.nn.CrossEntropyLoss().to(device)\n",
        "\n",
        "# optimizer - SGD\n",
        "optimizer = torch.optim.SGD(linear.parameters(), lr=0.1)"
      ]
    },
    {
      "cell_type": "markdown",
      "id": "61650443",
      "metadata": {},
      "source": [
        "## 모델 학습"
      ]
    },
    {
      "cell_type": "code",
      "execution_count": 7,
      "id": "683a020b",
      "metadata": {},
      "outputs": [
        {
          "name": "stdout",
          "output_type": "stream",
          "text": [
            "Epoch [1/20], Step [6000/6000], Loss:  0.0273, Accuracy:  100.00%\n",
            "Epoch [2/20], Step [6000/6000], Loss:  0.0762, Accuracy:  100.00%\n",
            "Epoch [3/20], Step [6000/6000], Loss:  0.5928, Accuracy:  80.00%\n",
            "Epoch [4/20], Step [6000/6000], Loss:  0.2854, Accuracy:  90.00%\n",
            "Epoch [5/20], Step [6000/6000], Loss:  0.1373, Accuracy:  90.00%\n",
            "Epoch [6/20], Step [6000/6000], Loss:  0.0668, Accuracy:  100.00%\n",
            "Epoch [7/20], Step [6000/6000], Loss:  0.0253, Accuracy:  100.00%\n",
            "Epoch [8/20], Step [6000/6000], Loss:  0.0542, Accuracy:  100.00%\n",
            "Epoch [9/20], Step [6000/6000], Loss:  0.9203, Accuracy:  80.00%\n",
            "Epoch [10/20], Step [6000/6000], Loss:  0.1244, Accuracy:  90.00%\n",
            "Epoch [11/20], Step [6000/6000], Loss:  0.6108, Accuracy:  90.00%\n",
            "Epoch [12/20], Step [6000/6000], Loss:  0.1312, Accuracy:  100.00%\n",
            "Epoch [13/20], Step [6000/6000], Loss:  0.0705, Accuracy:  100.00%\n",
            "Epoch [14/20], Step [6000/6000], Loss:  1.6259, Accuracy:  70.00%\n",
            "Epoch [15/20], Step [6000/6000], Loss:  0.0538, Accuracy:  100.00%\n",
            "Epoch [16/20], Step [6000/6000], Loss:  0.2435, Accuracy:  80.00%\n",
            "Epoch [17/20], Step [6000/6000], Loss:  0.0061, Accuracy:  100.00%\n",
            "Epoch [18/20], Step [6000/6000], Loss:  0.1091, Accuracy:  100.00%\n",
            "Epoch [19/20], Step [6000/6000], Loss:  0.0157, Accuracy:  100.00%\n",
            "Epoch [20/20], Step [6000/6000], Loss:  0.1413, Accuracy:  90.00%\n"
          ]
        }
      ],
      "source": [
        "training_epochs = 20 # training 반복 횟수\n",
        "\n",
        "for epoch in range(training_epochs):\n",
        "  for i, (imgs, labels) in enumerate(train_loader):\n",
        "    labels = labels.to(device)\n",
        "    imgs = imgs.view(-1, 28 * 28).to(device)\n",
        "\n",
        "    outputs = linear(imgs) \n",
        "    loss = criterion(outputs, labels) \n",
        "\n",
        "    optimizer.zero_grad()# optimzier zero grad\n",
        "\n",
        "    loss.backward() # loss backward\n",
        "    optimizer.step() # optimzier step\n",
        "\n",
        "    _,argmax = torch.max(outputs, 1)\n",
        "    accuracy = (labels == argmax).float().mean()\n",
        "\n",
        "  if (i+1) % 100 == 0:\n",
        "    print('Epoch [{}/{}], Step [{}/{}], Loss: {: .4f}, Accuracy: {: .2f}%'.format(\n",
        "    epoch+1, training_epochs, i+1, len(train_loader), loss.item(), accuracy.item()* 100))"
      ]
    },
    {
      "cell_type": "markdown",
      "id": "c1dfb17c",
      "metadata": {},
      "source": [
        "## 학습된 모델 테스트"
      ]
    },
    {
      "cell_type": "code",
      "execution_count": 8,
      "id": "1d05ac8c",
      "metadata": {},
      "outputs": [
        {
          "name": "stdout",
          "output_type": "stream",
          "text": [
            "Test accuracy for 10000 images:  91.99%\n"
          ]
        }
      ],
      "source": [
        "linear.eval()\n",
        "with torch.no_grad():\n",
        "    correct = 0\n",
        "    total = 0\n",
        "    for i, (imgs, labels) in enumerate(test_loader):\n",
        "        imgs, labels = imgs.to(device), labels.to(device)\n",
        "        imgs = imgs.view(-1, 28 * 28)\n",
        "\n",
        "        outputs = linear(imgs) # 구현\n",
        "\n",
        "        _, argmax = torch.max(outputs, 1) # max()를 통해 최종 출력이 가장 높은 class 선택\n",
        "        total += imgs.size(0)\n",
        "        correct += (labels == argmax). sum().item()\n",
        "\n",
        "    print('Test accuracy for {} images: {: .2f}%'.format(total, correct / total * 100))"
      ]
    }
  ],
  "metadata": {
    "kernelspec": {
      "display_name": "Python 3 (ipykernel)",
      "language": "python",
      "name": "python3"
    },
    "language_info": {
      "codemirror_mode": {
        "name": "ipython",
        "version": 3
      },
      "file_extension": ".py",
      "mimetype": "text/x-python",
      "name": "python",
      "nbconvert_exporter": "python",
      "pygments_lexer": "ipython3",
      "version": "3.11.4"
    }
  },
  "nbformat": 4,
  "nbformat_minor": 5
}
