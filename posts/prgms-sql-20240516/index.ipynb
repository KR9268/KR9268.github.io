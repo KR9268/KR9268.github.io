{
  "cells": [
    {
      "cell_type": "raw",
      "id": "de6ec63f",
      "metadata": {
        "vscode": {
          "languageId": "raw"
        }
      },
      "source": [
        "---\n",
        "title: '[프로그래머스SQL] 평균 일일 대여 요금 구하기'\n",
        "author: 'Kibok Park'\n",
        "date: '2024-05-16'\n",
        "categories: ['프로그래머스/SQL']\n",
        "toc: true\n",
        "draft: false\n",
        "format:\n",
        "  html:\n",
        "    code-fold: false\n",
        "comments:\n",
        "  giscus:\n",
        "    repo: kr9268/giscus_for_blog\n",
        "---"
      ]
    },
    {
      "cell_type": "markdown",
      "id": "225d807a",
      "metadata": {},
      "source": [
        "## 개요\n",
        "프로그래머스 SQL 문제풀이 연습(Oracle기준, Mysql아님)입니다 <br>\n",
        "(비상업적, 비영리적 용도)\n",
        "\n",
        "[문제링크](https://school.programmers.co.kr/learn/courses/30/lessons/151136)<br>\n",
        "[게시가능여부](https://programmers.zendesk.com/hc/ko/articles/360034546572-%ED%94%84%EB%A1%9C%EA%B7%B8%EB%9E%98%EB%A8%B8%EC%8A%A4%EC%9D%98-%EB%AC%B8%EC%A0%9C%EB%A5%BC-%EC%99%B8%EB%B6%80%EC%97%90-%EA%B2%8C%EC%8B%9C%ED%95%A0-%EC%88%98-%EC%9E%88%EB%82%98%EC%9A%94)\n",
        "\n",
        "\n",
        "## 문제 : 평균 일일 대여 요금 구하기\n",
        "\n",
        "![문제 이미지](question.png)"
      ]
    },
    {
      "cell_type": "markdown",
      "id": "4d35208a",
      "metadata": {},
      "source": [
        "## 작성답안"
      ]
    },
    {
      "cell_type": "code",
      "execution_count": null,
      "id": "fig-polar",
      "metadata": {
        "vscode": {
          "languageId": "sql"
        }
      },
      "outputs": [],
      "source": [
        "SELECT ROUND(AVG(DAILY_FEE)) AS AVERAGE_FEE\n",
        "FROM CAR_RENTAL_COMPANY_CAR\n",
        "WHERE CAR_TYPE = 'SUV'"
      ]
    },
    {
      "cell_type": "markdown",
      "id": "a3c1ad86",
      "metadata": {},
      "source": [
        "## 정리\n",
        "\n",
        "* ROUND : 반올림\n",
        "* AVG : 평균\n",
        "* AS ??? : 컬럼명을 ???으로 가져온다\n",
        "* WHERE : 작성한 조건을 기준으로 가져온다<br>\n",
        "    * **WHERE**의 여러 형태예시\n",
        "    ```\n",
        "    WHERE CAR_TYPE = 'SUV'\n",
        "    WHERE CAR_TYPE != 'SUV'\n",
        "    WHERE DAILY_FEE > 14000\n",
        "    WHERE DAILY_FEE BETWEEN 14000 AND 16000\n",
        "    WHERE DAILY_FEE IN (14000, 16000)\n",
        "    WHERE CAR_TYPE IN ('SUV', '세단')\n",
        "    ```"
      ]
    }
  ],
  "metadata": {
    "kernelspec": {
      "display_name": "Python 3 (ipykernel)",
      "language": "python",
      "name": "python3"
    },
    "language_info": {
      "codemirror_mode": {
        "name": "ipython",
        "version": 3
      },
      "file_extension": ".py",
      "mimetype": "text/x-python",
      "name": "python",
      "nbconvert_exporter": "python",
      "pygments_lexer": "ipython3",
      "version": "3.11.4"
    }
  },
  "nbformat": 4,
  "nbformat_minor": 5
}
