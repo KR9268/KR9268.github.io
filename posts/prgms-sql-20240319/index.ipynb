{
 "cells": [
  {
   "cell_type": "raw",
   "id": "de6ec63f",
   "metadata": {
    "vscode": {
     "languageId": "raw"
    }
   },
   "source": [
    "---\n",
    "title: '[프로그래머스SQL] 조건에 맞는 도서 리스트 출력하기'\n",
    "author: 'Kibok Park'\n",
    "date: '2024-03-19'\n",
    "categories: ['프로그래머스/SQL']\n",
    "toc: true\n",
    "draft: false\n",
    "format:\n",
    "  html:\n",
    "    code-fold: false\n",
    "comments:\n",
    "  giscus:\n",
    "    repo: kr9268/giscus_for_blog\n",
    "---"
   ]
  },
  {
   "cell_type": "markdown",
   "id": "225d807a",
   "metadata": {},
   "source": [
    "## 개요\n",
    "프로그래머스 SQL 문제풀이 연습(Oracle기준, Mysql아님)입니다 <br>\n",
    "(비상업적, 비영리적 용도)\n",
    "\n",
    "[문제링크](https://school.programmers.co.kr/learn/courses/30/parts/17042)<br>\n",
    "[게시가능여부](https://programmers.zendesk.com/hc/ko/articles/360034546572-%ED%94%84%EB%A1%9C%EA%B7%B8%EB%9E%98%EB%A8%B8%EC%8A%A4%EC%9D%98-%EB%AC%B8%EC%A0%9C%EB%A5%BC-%EC%99%B8%EB%B6%80%EC%97%90-%EA%B2%8C%EC%8B%9C%ED%95%A0-%EC%88%98-%EC%9E%88%EB%82%98%EC%9A%94)\n",
    "\n",
    "\n",
    "## 문제 : 조건에 맞는 도서 리스트 출력하기\n",
    "### 문제 설명\n",
    "다음은 어느 한 서점에서 판매중인 도서들의 도서 정보(BOOK) 테이블입니다.\n",
    "\n",
    "BOOK 테이블은 각 도서의 정보를 담은 테이블로 아래와 같은 구조로 되어있습니다.\n",
    "\n",
    "Column name\tType\tNullable\tDescription<br>\n",
    "BOOK_ID\tINTEGER\tFALSE\t도서 ID<br>\n",
    "CATEGORY\tVARCHAR(N)\tFALSE\t카테고리 (경제, 인문, 소설, 생활, 기술)<br>\n",
    "AUTHOR_ID\tINTEGER\tFALSE\t저자 ID<br>\n",
    "PRICE\tINTEGER\tFALSE\t판매가 (원)<br>\n",
    "PUBLISHED_DATE\tDATE\tFALSE\t출판일\n",
    "\n",
    "\n",
    "### 문제\n",
    "BOOK 테이블에서 2021년에 출판된 '인문' 카테고리에 속하는 도서 리스트를 찾아서 도서 ID(BOOK_ID), 출판일 (PUBLISHED_DATE)을 출력하는 SQL문을 작성해주세요.\n",
    "결과는 출판일을 기준으로 오름차순 정렬해주세요.\n",
    "\n",
    "예시\n",
    "예를 들어 BOOK 테이블이 다음과 같다면\n",
    "\n",
    "BOOK_ID\tCATEGORY\tAUTHOR_ID\tPRICE\tPUBLISHED_DATE<br>\n",
    "1\t인문\t1\t10000\t2020-01-01<br>\n",
    "2\t경제\t2\t9000\t2021-02-05<br>\n",
    "3\t인문\t2\t11000\t2021-04-11<br>\n",
    "4\t인문\t3\t10000\t2021-03-15<br>\n",
    "5\t생활\t1\t12000\t2021-01-10<br>\n",
    "조건에 속하는 도서는 도서 ID 가 3, 4인 도서이므로 다음과 같습니다.\n",
    "\n",
    "BOOK_ID\tPUBLISHED_DATE<br>\n",
    "3\t2021-04-11<br>\n",
    "4\t2021-03-15<br>\n",
    "그리고 출판일 오름차순으로 정렬하여야 하므로 다음과 같은 결과가 나와야 합니다.\n",
    "\n",
    "BOOK_ID\tPUBLISHED_DATE<br>\n",
    "4\t2021-03-15<br>\n",
    "3\t2021-04-11<br>\n",
    "\n",
    "### 주의사항\n",
    "PUBLISHED_DATE의 데이트 포맷이 예시와 동일해야 정답처리 됩니다."
   ]
  },
  {
   "cell_type": "markdown",
   "id": "4d35208a",
   "metadata": {},
   "source": [
    "## 작성답안"
   ]
  },
  {
   "cell_type": "code",
   "execution_count": null,
   "id": "fig-polar",
   "metadata": {
    "vscode": {
     "languageId": "sql"
    }
   },
   "outputs": [],
   "source": [
    "SELECT BOOK_ID, TO_CHAR(PUBLISHED_DATE, 'YYYY-MM-DD')\n",
    "FROM BOOK\n",
    "WHERE CATEGORY = '인문' AND EXTRACT(YEAR FROM PUBLISHED_DATE) = 2021\n",
    "ORDER BY PUBLISHED_DATE ASC"
   ]
  },
  {
   "cell_type": "markdown",
   "id": "a3c1ad86",
   "metadata": {},
   "source": [
    "## 정리\n",
    "\n",
    "* TO_CHAR(표시형식 변경)\n\n",
    "> SELECT TO_CHAR(컬럼명, '표시형식') FROM 테이블명\n",
    "표시형식(연도 4자리) : TO_CHAR(컬럼명, 'YYYY')<br>\n",
    "표시형식(월) : TO_CHAR(컬럼명, 'MM')<br>\n",
    "표시형식(일, 연기준 1~366) : TO_CHAR(컬럼명, 'DDD')<br>\n",
    "표시형식(일, 일기준 1~31) : TO_CHAR(컬럼명, 'DD')<br>\n",
    "표시형식(일, 요일) : TO_CHAR(컬럼명, 'D')  * 지역설정에 따라 시작요일이 달라짐<br>\n",
    "<br>\n",
    "표시형식(분기) : TO_CHAR(컬럼명, 'Q')<br>\n",
    "표시형식(주, 연기준 1~53) : TO_CHAR(컬럼명, 'WW')<br>\n",
    "표시형식(주, 월기준 1~53) : TO_CHAR(컬럼명, 'W')<br>\n",
    "<br>\n",
    "표시형식(요일, MON/월) : TO_CHAR(컬럼명, 'DY')<br>\n",
    "표시형식(요일, MONDAY/월요일) : TO_CHAR(컬럼명, 'DAY')<br>\n",
    "표시형식(월, JAN/1월) : TO_CHAR(컬럼명, 'MON')<br>\n",
    "표시형식(월, JANUARY/1월) : TO_CHAR(컬럼명, 'MONTH')<br>\n",
    "<br>\n",
    "표시형식(시간, 12시간표기) : TO_CHAR(컬럼명, 'HH12')<br>\n",
    "표시형식(시간, 24시간표기) : TO_CHAR(컬럼명, 'HH24')<br>\n",
    "표시형식(분) : TO_CHAR(컬럼명, 'MI')<br>\n",
    "표시형식(초) : TO_CHAR(컬럼명, 'SS')<br>\n",
    "\n",
    "* AND(모두 만족) / OR(하나라도 만족) / NOT(조건과 맞지 않는)\n\n",
    "> 연산자 우선순위(참고용)\n",
    "1 괄호<br>\n",
    "2 NOT<br>\n",
    "3 비교 (> < = !)<br>\n",
    "4 AND<br>\n",
    "5 OR\n",
    "\n",
    "* ORDER BY 컬럼명 ASC (오름차순)\n",
    "* ORDER BY 컬럼명 DESC (내림차순)"
   ]
  },
  {
   "cell_type": "markdown",
   "id": "7d110bc9",
   "metadata": {},
   "source": []
  }
 ],
 "metadata": {
  "kernelspec": {
   "display_name": "Python 3 (ipykernel)",
   "language": "python",
   "name": "python3"
  },
  "language_info": {
   "codemirror_mode": {
    "name": "ipython",
    "version": 3
   },
   "file_extension": ".py",
   "mimetype": "text/x-python",
   "name": "python",
   "nbconvert_exporter": "python",
   "pygments_lexer": "ipython3",
   "version": "3.11.4"
  }
 },
 "nbformat": 4,
 "nbformat_minor": 5
}
