{
  "cells": [
    {
      "cell_type": "raw",
      "id": "de6ec63f",
      "metadata": {
        "vscode": {
          "languageId": "raw"
        }
      },
      "source": [
        "---\n",
        "title: '[공모전] 공공데이터 공모전-2(github온라인db)'\n",
        "author: 'Kibok Park'\n",
        "date: '2024-06-08'\n",
        "categories: ['공모전','공공데이터','분석', '공공데이터API', 'github']\n",
        "execute:\n",
        "  freeze: auto\n",
        "toc: true\n",
        "draft: false\n",
        "format:\n",
        "  html:\n",
        "    code-fold: false\n",
        "comments:\n",
        "  giscus:\n",
        "    repo: kr9268/giscus_for_blog\n",
        "---\n",
        "2024년 12회 산업통상자원부 공공데이터 활용 아이디어 공모전 참가 기록.(+github활용한 온라인db구축)"
      ]
    },
    {
      "cell_type": "markdown",
      "id": "225d807a",
      "metadata": {},
      "source": [
        "## 개요 \n",
        "\n",
        "* 2024년 12회 산업통상자원부 공공데이터 활용 아이디어 공모전 참가해보기로 함\n",
        "  * https://datacontest.kr/apply/applyAdd/3\n",
        "* 단순 API로딩이 아니라, 각자 바로 데이터를 로딩할 수 있는 매체에 대한 고민 후 구현\n",
        "  * 코딩이 익숙하지 않은 팀원이 쉽게 이용할 수 있도록하고, readme에 바로 사용할 수 있게 샘플코드 제공\n",
        "  * github를 활용해 pandas에서 바로 로딩할 수 있도록 구현"
      ]
    },
    {
      "cell_type": "markdown",
      "id": "414184cc",
      "metadata": {},
      "source": [
        "## 내용정리\n",
        "\n",
        "### 도입목적\n",
        "* 본격적으로 모델 학습을 하기 전, 데이터 이용 편의를 증진하고자 함\n",
        "* 팀원들이 R이나 통계분석에는 익숙하나 파이썬 코딩에는 익숙하지않아, 최대한 모델링에 집중하도록 지원\n",
        "  * 하나의 repository에서 원하는 데이터를 한번에 확인 가능\n",
        "  * 업데이트 일자를 표기하여 얼마나 최신 데이터인지 확인 가능\n",
        "* 데이터를 하나의 페이지에서 통합관리(공공데이터 홈페이지 접속 등 불필요)\n",
        "* 개인서버(NAS)에서 매일 특정시간 구동하여 별도의 수작업없이 자동으로 최신화\n",
        "\n",
        "### 구동방식\n",
        "* 공공데이터 리스트와 API키가 저장된 json파일 로딩\n",
        "* 지정된 공공데이터를 다운로드하고 csv파일로 저장\n",
        "* 바로 로딩하기위한 파일 주소생성, 업데이트 날짜 저장\n",
        "* README 파일에 파일주소와 업데이트 날짜 등 업데이트\n",
        "* git_push함수로 github repository에 자동업로드\n",
        "\n",
        "### github reposiroty주소\n",
        "[https://github.com/KR9268/db_datagokr](https://github.com/KR9268/db_datagokr)\n",
        "\n",
        "### 샘플코드(패키지 및 함수)"
      ]
    },
    {
      "cell_type": "code",
      "execution_count": null,
      "id": "298e7956",
      "metadata": {},
      "outputs": [],
      "source": [
        "import requests\n",
        "import json\n",
        "import pandas as pd\n",
        "from datetime import datetime\n",
        "import subprocess\n",
        "import os\n",
        "import time\n",
        "\n",
        "def json_load(json_path, encoding='utf-8'):\n",
        "    with open(json_path, 'r', encoding=encoding) as file:\n",
        "        json_data = json.load(file)\n",
        "    return json_data\n",
        "\n",
        "def request_and_to_json(url):\n",
        "    response = requests.get(url)\n",
        "    json_ob = json.loads(response.text)\n",
        "    return json_ob\n",
        "\n",
        "def chk_json_status_of_data_go_kr(json_obj):\n",
        "    other_data = ['currentCount', 'matchCount', 'page', 'perPage', 'totalCount']\n",
        "    result_dict = dict()\n",
        "    \n",
        "    for each_column in other_data:\n",
        "        result_dict[each_column] = json_obj[each_column]  \n",
        "    return result_dict \n",
        "\n",
        "def download_from_data_go_kr_with_json(url):\n",
        "    json_ob = request_and_to_json(url)\n",
        "\n",
        "    json_status = chk_json_status_of_data_go_kr(json_ob)\n",
        "    if json_status['currentCount'] < json_status['totalCount']:\n",
        "        url = url.replace('perPage=1',f'perPage={json_status[\"totalCount\"]}')\n",
        "        json_ob = request_and_to_json(url)\n",
        "\n",
        "    return json_ob\n",
        "\n",
        "def update_readme(new_content_list):\n",
        "    # Open the README.md file in read mode\n",
        "    with open('README.md', 'r', encoding='utf-8') as file:\n",
        "        lines = file.readlines()\n",
        "\n",
        "    # Find the index of the line that starts with '* 데이터 현황'\n",
        "    index = next((i for i, line in enumerate(lines) if line.startswith('* 데이터 현황')), None)\n",
        "\n",
        "    # If the line is found, remove the following lines and insert new content\n",
        "    if index is not None:\n",
        "        lines = lines[:index+1] # Remove the following lines\n",
        "        #lines.extend(new_content) # Insert new content\n",
        "        lines.extend(new_content_list) # Insert new content\n",
        "\n",
        "    # Open the README.md file in write mode and write the updated content\n",
        "    with open('README.md', 'w', encoding='utf-8') as file:\n",
        "        file.writelines(lines)\n",
        "\n",
        "def git_push():\n",
        "    # Get a list of all .csv files in the current directory\n",
        "    csv_files = [f for f in os.listdir('.') if f.endswith('.csv')]\n",
        "\n",
        "    # Stage all .csv files\n",
        "    for file in csv_files:\n",
        "        subprocess.call(['git', 'add', file])\n",
        "\n",
        "    subprocess.call(['git', 'add', 'README.md'])\n",
        "    # Commit the changes with a message\n",
        "    subprocess.call(['git', 'commit', '-m', 'Automatic commit'])\n",
        "\n",
        "    # Push the changes to the remote repository\n",
        "    subprocess.call(['git', 'push'])"
      ]
    },
    {
      "cell_type": "markdown",
      "id": "fdd8a0b4",
      "metadata": {},
      "source": [
        "### 샘플코드(메인코드)"
      ]
    },
    {
      "cell_type": "code",
      "execution_count": null,
      "id": "2a362ba2",
      "metadata": {},
      "outputs": [],
      "source": [
        "# json load\n",
        "serviceKey = json_load('option.json')['serviceKey']\n",
        "db_list = json_load('db_list.json', 'cp949')"
      ]
    },
    {
      "cell_type": "code",
      "execution_count": null,
      "id": "5a783f4f",
      "metadata": {},
      "outputs": [],
      "source": [
        "# main\n",
        "\n",
        "# 작업하기\n",
        "txt_for_readme = ['\\n']\n",
        "for each in db_list:\n",
        "    # 다운로드\n",
        "    url = f\"{each['base_url']}{each['address_get']}?page=1&perPage=1&serviceKey={serviceKey}\"\n",
        "    json_data = download_from_data_go_kr_with_json(url)\n",
        "    result_data = chk_json_status_of_data_go_kr(json_data)\n",
        "    \n",
        "    # 저장\n",
        "    if result_data['currentCount'] == result_data['totalCount']:\n",
        "        pd.json_normalize(json_data['data']).to_csv(f\"{each['file_name_to']}.csv\",encoding='cp949', index=False)\n",
        "\n",
        "    # 파일주소 및 이름, 업데이트시간 저장\n",
        "    owner = 'KR9268'\n",
        "    repo = 'db_datagokr'\n",
        "    branch = 'main'\n",
        "    file_path = f\"{each['file_name_to']}.csv\"\n",
        "\n",
        "    url = f\"https://raw.githubusercontent.com/{owner}/{repo}/{branch}/{file_path}\"\n",
        "\n",
        "    txt_for_readme.append(f\"  *  {datetime.strftime(datetime.now(),'%Y-%m-%d')}업데이트 : {each['name']}\\n{url}\\n\")\n",
        "    time.sleep(1)\n",
        "\n",
        "# 업데이트 내역과 파일 git push\n",
        "update_readme(txt_for_readme)\n",
        "git_push()"
      ]
    }
  ],
  "metadata": {
    "kernelspec": {
      "display_name": "Python 3 (ipykernel)",
      "language": "python",
      "name": "python3"
    },
    "language_info": {
      "codemirror_mode": {
        "name": "ipython",
        "version": 3
      },
      "file_extension": ".py",
      "mimetype": "text/x-python",
      "name": "python",
      "nbconvert_exporter": "python",
      "pygments_lexer": "ipython3",
      "version": "3.11.4"
    }
  },
  "nbformat": 4,
  "nbformat_minor": 5
}
